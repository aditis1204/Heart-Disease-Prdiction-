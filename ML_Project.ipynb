{
  "nbformat": 4,
  "nbformat_minor": 0,
  "metadata": {
    "colab": {
      "name": "ML_Project",
      "provenance": [],
      "collapsed_sections": []
    },
    "kernelspec": {
      "name": "python3",
      "display_name": "Python 3"
    }
  },
  "cells": [
    {
      "cell_type": "markdown",
      "metadata": {
        "id": "tHMhDM8EXv_H",
        "colab_type": "text"
      },
      "source": [
        "To read more about Datset can be found at http://archive.ics.uci.edu/ml/datasets/Heart+Disease"
      ]
    },
    {
      "cell_type": "markdown",
      "metadata": {
        "id": "iDIIAR49cGoK",
        "colab_type": "text"
      },
      "source": [
        "## Import Libraries and Dataset"
      ]
    },
    {
      "cell_type": "code",
      "metadata": {
        "id": "IgMnp63jX5Hw",
        "colab_type": "code",
        "colab": {}
      },
      "source": [
        "\n",
        "import sys\n",
        "import pandas as pd\n",
        "import numpy as np\n",
        "import sklearn\n",
        "import matplotlib\n",
        "import keras\n",
        "import seaborn as sns\n"
      ],
      "execution_count": 0,
      "outputs": []
    },
    {
      "cell_type": "code",
      "metadata": {
        "id": "4lrrHu1sjswk",
        "colab_type": "code",
        "colab": {}
      },
      "source": [
        "\n",
        "import matplotlib.pyplot as plt\n",
        "from pandas.plotting import scatter_matrix"
      ],
      "execution_count": 0,
      "outputs": []
    },
    {
      "cell_type": "code",
      "metadata": {
        "id": "JLjMPAPyj-4C",
        "colab_type": "code",
        "colab": {}
      },
      "source": [
        "# import the heart disease dataset\n",
        "url = \"http://archive.ics.uci.edu/ml/machine-learning-databases/heart-disease/processed.cleveland.data\"\n",
        "\n",
        "# the names will be the names of each column in our pandas DataFrame\n",
        "names = ['age',\n",
        "        'sex',\n",
        "        'cp',\n",
        "        'trestbps',\n",
        "        'chol',\n",
        "        'fbs',\n",
        "        'restecg',\n",
        "        'thalach',\n",
        "        'exang',\n",
        "        'oldpeak',\n",
        "        'slope',\n",
        "        'ca',\n",
        "        'thal',\n",
        "        'class']\n",
        "\n",
        "# read the csv\n",
        "cleveland = pd.read_csv(url, names=names)\n",
        "data=cleveland"
      ],
      "execution_count": 0,
      "outputs": []
    },
    {
      "cell_type": "code",
      "metadata": {
        "id": "zursb6YE-wR9",
        "colab_type": "code",
        "colab": {}
      },
      "source": [
        ""
      ],
      "execution_count": 0,
      "outputs": []
    },
    {
      "cell_type": "code",
      "metadata": {
        "id": "SgvSVf9Dj_vO",
        "colab_type": "code",
        "outputId": "0297e325-6cae-4eda-c4da-819ab62f478a",
        "colab": {
          "base_uri": "https://localhost:8080/",
          "height": 295
        }
      },
      "source": [
        "print ((cleveland.shape))\n",
        "print (cleveland.loc[1])"
      ],
      "execution_count": 645,
      "outputs": [
        {
          "output_type": "stream",
          "text": [
            "(303, 14)\n",
            "age          67\n",
            "sex           1\n",
            "cp            4\n",
            "trestbps    160\n",
            "chol        286\n",
            "fbs           0\n",
            "restecg       2\n",
            "thalach     108\n",
            "exang         1\n",
            "oldpeak     1.5\n",
            "slope         2\n",
            "ca          3.0\n",
            "thal        3.0\n",
            "class         2\n",
            "Name: 1, dtype: object\n"
          ],
          "name": "stdout"
        }
      ]
    },
    {
      "cell_type": "code",
      "metadata": {
        "id": "6-SIriC5kD7M",
        "colab_type": "code",
        "outputId": "3a6caa57-e6f6-4b16-e9c2-b03bb2e53e89",
        "colab": {
          "base_uri": "https://localhost:8080/",
          "height": 771
        }
      },
      "source": [
        "cleveland.loc[280:]"
      ],
      "execution_count": 646,
      "outputs": [
        {
          "output_type": "execute_result",
          "data": {
            "text/html": [
              "<div>\n",
              "<style scoped>\n",
              "    .dataframe tbody tr th:only-of-type {\n",
              "        vertical-align: middle;\n",
              "    }\n",
              "\n",
              "    .dataframe tbody tr th {\n",
              "        vertical-align: top;\n",
              "    }\n",
              "\n",
              "    .dataframe thead th {\n",
              "        text-align: right;\n",
              "    }\n",
              "</style>\n",
              "<table border=\"1\" class=\"dataframe\">\n",
              "  <thead>\n",
              "    <tr style=\"text-align: right;\">\n",
              "      <th></th>\n",
              "      <th>age</th>\n",
              "      <th>sex</th>\n",
              "      <th>cp</th>\n",
              "      <th>trestbps</th>\n",
              "      <th>chol</th>\n",
              "      <th>fbs</th>\n",
              "      <th>restecg</th>\n",
              "      <th>thalach</th>\n",
              "      <th>exang</th>\n",
              "      <th>oldpeak</th>\n",
              "      <th>slope</th>\n",
              "      <th>ca</th>\n",
              "      <th>thal</th>\n",
              "      <th>class</th>\n",
              "    </tr>\n",
              "  </thead>\n",
              "  <tbody>\n",
              "    <tr>\n",
              "      <th>280</th>\n",
              "      <td>57.0</td>\n",
              "      <td>1.0</td>\n",
              "      <td>4.0</td>\n",
              "      <td>110.0</td>\n",
              "      <td>335.0</td>\n",
              "      <td>0.0</td>\n",
              "      <td>0.0</td>\n",
              "      <td>143.0</td>\n",
              "      <td>1.0</td>\n",
              "      <td>3.0</td>\n",
              "      <td>2.0</td>\n",
              "      <td>1.0</td>\n",
              "      <td>7.0</td>\n",
              "      <td>2</td>\n",
              "    </tr>\n",
              "    <tr>\n",
              "      <th>281</th>\n",
              "      <td>47.0</td>\n",
              "      <td>1.0</td>\n",
              "      <td>3.0</td>\n",
              "      <td>130.0</td>\n",
              "      <td>253.0</td>\n",
              "      <td>0.0</td>\n",
              "      <td>0.0</td>\n",
              "      <td>179.0</td>\n",
              "      <td>0.0</td>\n",
              "      <td>0.0</td>\n",
              "      <td>1.0</td>\n",
              "      <td>0.0</td>\n",
              "      <td>3.0</td>\n",
              "      <td>0</td>\n",
              "    </tr>\n",
              "    <tr>\n",
              "      <th>282</th>\n",
              "      <td>55.0</td>\n",
              "      <td>0.0</td>\n",
              "      <td>4.0</td>\n",
              "      <td>128.0</td>\n",
              "      <td>205.0</td>\n",
              "      <td>0.0</td>\n",
              "      <td>1.0</td>\n",
              "      <td>130.0</td>\n",
              "      <td>1.0</td>\n",
              "      <td>2.0</td>\n",
              "      <td>2.0</td>\n",
              "      <td>1.0</td>\n",
              "      <td>7.0</td>\n",
              "      <td>3</td>\n",
              "    </tr>\n",
              "    <tr>\n",
              "      <th>283</th>\n",
              "      <td>35.0</td>\n",
              "      <td>1.0</td>\n",
              "      <td>2.0</td>\n",
              "      <td>122.0</td>\n",
              "      <td>192.0</td>\n",
              "      <td>0.0</td>\n",
              "      <td>0.0</td>\n",
              "      <td>174.0</td>\n",
              "      <td>0.0</td>\n",
              "      <td>0.0</td>\n",
              "      <td>1.0</td>\n",
              "      <td>0.0</td>\n",
              "      <td>3.0</td>\n",
              "      <td>0</td>\n",
              "    </tr>\n",
              "    <tr>\n",
              "      <th>284</th>\n",
              "      <td>61.0</td>\n",
              "      <td>1.0</td>\n",
              "      <td>4.0</td>\n",
              "      <td>148.0</td>\n",
              "      <td>203.0</td>\n",
              "      <td>0.0</td>\n",
              "      <td>0.0</td>\n",
              "      <td>161.0</td>\n",
              "      <td>0.0</td>\n",
              "      <td>0.0</td>\n",
              "      <td>1.0</td>\n",
              "      <td>1.0</td>\n",
              "      <td>7.0</td>\n",
              "      <td>2</td>\n",
              "    </tr>\n",
              "    <tr>\n",
              "      <th>285</th>\n",
              "      <td>58.0</td>\n",
              "      <td>1.0</td>\n",
              "      <td>4.0</td>\n",
              "      <td>114.0</td>\n",
              "      <td>318.0</td>\n",
              "      <td>0.0</td>\n",
              "      <td>1.0</td>\n",
              "      <td>140.0</td>\n",
              "      <td>0.0</td>\n",
              "      <td>4.4</td>\n",
              "      <td>3.0</td>\n",
              "      <td>3.0</td>\n",
              "      <td>6.0</td>\n",
              "      <td>4</td>\n",
              "    </tr>\n",
              "    <tr>\n",
              "      <th>286</th>\n",
              "      <td>58.0</td>\n",
              "      <td>0.0</td>\n",
              "      <td>4.0</td>\n",
              "      <td>170.0</td>\n",
              "      <td>225.0</td>\n",
              "      <td>1.0</td>\n",
              "      <td>2.0</td>\n",
              "      <td>146.0</td>\n",
              "      <td>1.0</td>\n",
              "      <td>2.8</td>\n",
              "      <td>2.0</td>\n",
              "      <td>2.0</td>\n",
              "      <td>6.0</td>\n",
              "      <td>2</td>\n",
              "    </tr>\n",
              "    <tr>\n",
              "      <th>287</th>\n",
              "      <td>58.0</td>\n",
              "      <td>1.0</td>\n",
              "      <td>2.0</td>\n",
              "      <td>125.0</td>\n",
              "      <td>220.0</td>\n",
              "      <td>0.0</td>\n",
              "      <td>0.0</td>\n",
              "      <td>144.0</td>\n",
              "      <td>0.0</td>\n",
              "      <td>0.4</td>\n",
              "      <td>2.0</td>\n",
              "      <td>?</td>\n",
              "      <td>7.0</td>\n",
              "      <td>0</td>\n",
              "    </tr>\n",
              "    <tr>\n",
              "      <th>288</th>\n",
              "      <td>56.0</td>\n",
              "      <td>1.0</td>\n",
              "      <td>2.0</td>\n",
              "      <td>130.0</td>\n",
              "      <td>221.0</td>\n",
              "      <td>0.0</td>\n",
              "      <td>2.0</td>\n",
              "      <td>163.0</td>\n",
              "      <td>0.0</td>\n",
              "      <td>0.0</td>\n",
              "      <td>1.0</td>\n",
              "      <td>0.0</td>\n",
              "      <td>7.0</td>\n",
              "      <td>0</td>\n",
              "    </tr>\n",
              "    <tr>\n",
              "      <th>289</th>\n",
              "      <td>56.0</td>\n",
              "      <td>1.0</td>\n",
              "      <td>2.0</td>\n",
              "      <td>120.0</td>\n",
              "      <td>240.0</td>\n",
              "      <td>0.0</td>\n",
              "      <td>0.0</td>\n",
              "      <td>169.0</td>\n",
              "      <td>0.0</td>\n",
              "      <td>0.0</td>\n",
              "      <td>3.0</td>\n",
              "      <td>0.0</td>\n",
              "      <td>3.0</td>\n",
              "      <td>0</td>\n",
              "    </tr>\n",
              "    <tr>\n",
              "      <th>290</th>\n",
              "      <td>67.0</td>\n",
              "      <td>1.0</td>\n",
              "      <td>3.0</td>\n",
              "      <td>152.0</td>\n",
              "      <td>212.0</td>\n",
              "      <td>0.0</td>\n",
              "      <td>2.0</td>\n",
              "      <td>150.0</td>\n",
              "      <td>0.0</td>\n",
              "      <td>0.8</td>\n",
              "      <td>2.0</td>\n",
              "      <td>0.0</td>\n",
              "      <td>7.0</td>\n",
              "      <td>1</td>\n",
              "    </tr>\n",
              "    <tr>\n",
              "      <th>291</th>\n",
              "      <td>55.0</td>\n",
              "      <td>0.0</td>\n",
              "      <td>2.0</td>\n",
              "      <td>132.0</td>\n",
              "      <td>342.0</td>\n",
              "      <td>0.0</td>\n",
              "      <td>0.0</td>\n",
              "      <td>166.0</td>\n",
              "      <td>0.0</td>\n",
              "      <td>1.2</td>\n",
              "      <td>1.0</td>\n",
              "      <td>0.0</td>\n",
              "      <td>3.0</td>\n",
              "      <td>0</td>\n",
              "    </tr>\n",
              "    <tr>\n",
              "      <th>292</th>\n",
              "      <td>44.0</td>\n",
              "      <td>1.0</td>\n",
              "      <td>4.0</td>\n",
              "      <td>120.0</td>\n",
              "      <td>169.0</td>\n",
              "      <td>0.0</td>\n",
              "      <td>0.0</td>\n",
              "      <td>144.0</td>\n",
              "      <td>1.0</td>\n",
              "      <td>2.8</td>\n",
              "      <td>3.0</td>\n",
              "      <td>0.0</td>\n",
              "      <td>6.0</td>\n",
              "      <td>2</td>\n",
              "    </tr>\n",
              "    <tr>\n",
              "      <th>293</th>\n",
              "      <td>63.0</td>\n",
              "      <td>1.0</td>\n",
              "      <td>4.0</td>\n",
              "      <td>140.0</td>\n",
              "      <td>187.0</td>\n",
              "      <td>0.0</td>\n",
              "      <td>2.0</td>\n",
              "      <td>144.0</td>\n",
              "      <td>1.0</td>\n",
              "      <td>4.0</td>\n",
              "      <td>1.0</td>\n",
              "      <td>2.0</td>\n",
              "      <td>7.0</td>\n",
              "      <td>2</td>\n",
              "    </tr>\n",
              "    <tr>\n",
              "      <th>294</th>\n",
              "      <td>63.0</td>\n",
              "      <td>0.0</td>\n",
              "      <td>4.0</td>\n",
              "      <td>124.0</td>\n",
              "      <td>197.0</td>\n",
              "      <td>0.0</td>\n",
              "      <td>0.0</td>\n",
              "      <td>136.0</td>\n",
              "      <td>1.0</td>\n",
              "      <td>0.0</td>\n",
              "      <td>2.0</td>\n",
              "      <td>0.0</td>\n",
              "      <td>3.0</td>\n",
              "      <td>1</td>\n",
              "    </tr>\n",
              "    <tr>\n",
              "      <th>295</th>\n",
              "      <td>41.0</td>\n",
              "      <td>1.0</td>\n",
              "      <td>2.0</td>\n",
              "      <td>120.0</td>\n",
              "      <td>157.0</td>\n",
              "      <td>0.0</td>\n",
              "      <td>0.0</td>\n",
              "      <td>182.0</td>\n",
              "      <td>0.0</td>\n",
              "      <td>0.0</td>\n",
              "      <td>1.0</td>\n",
              "      <td>0.0</td>\n",
              "      <td>3.0</td>\n",
              "      <td>0</td>\n",
              "    </tr>\n",
              "    <tr>\n",
              "      <th>296</th>\n",
              "      <td>59.0</td>\n",
              "      <td>1.0</td>\n",
              "      <td>4.0</td>\n",
              "      <td>164.0</td>\n",
              "      <td>176.0</td>\n",
              "      <td>1.0</td>\n",
              "      <td>2.0</td>\n",
              "      <td>90.0</td>\n",
              "      <td>0.0</td>\n",
              "      <td>1.0</td>\n",
              "      <td>2.0</td>\n",
              "      <td>2.0</td>\n",
              "      <td>6.0</td>\n",
              "      <td>3</td>\n",
              "    </tr>\n",
              "    <tr>\n",
              "      <th>297</th>\n",
              "      <td>57.0</td>\n",
              "      <td>0.0</td>\n",
              "      <td>4.0</td>\n",
              "      <td>140.0</td>\n",
              "      <td>241.0</td>\n",
              "      <td>0.0</td>\n",
              "      <td>0.0</td>\n",
              "      <td>123.0</td>\n",
              "      <td>1.0</td>\n",
              "      <td>0.2</td>\n",
              "      <td>2.0</td>\n",
              "      <td>0.0</td>\n",
              "      <td>7.0</td>\n",
              "      <td>1</td>\n",
              "    </tr>\n",
              "    <tr>\n",
              "      <th>298</th>\n",
              "      <td>45.0</td>\n",
              "      <td>1.0</td>\n",
              "      <td>1.0</td>\n",
              "      <td>110.0</td>\n",
              "      <td>264.0</td>\n",
              "      <td>0.0</td>\n",
              "      <td>0.0</td>\n",
              "      <td>132.0</td>\n",
              "      <td>0.0</td>\n",
              "      <td>1.2</td>\n",
              "      <td>2.0</td>\n",
              "      <td>0.0</td>\n",
              "      <td>7.0</td>\n",
              "      <td>1</td>\n",
              "    </tr>\n",
              "    <tr>\n",
              "      <th>299</th>\n",
              "      <td>68.0</td>\n",
              "      <td>1.0</td>\n",
              "      <td>4.0</td>\n",
              "      <td>144.0</td>\n",
              "      <td>193.0</td>\n",
              "      <td>1.0</td>\n",
              "      <td>0.0</td>\n",
              "      <td>141.0</td>\n",
              "      <td>0.0</td>\n",
              "      <td>3.4</td>\n",
              "      <td>2.0</td>\n",
              "      <td>2.0</td>\n",
              "      <td>7.0</td>\n",
              "      <td>2</td>\n",
              "    </tr>\n",
              "    <tr>\n",
              "      <th>300</th>\n",
              "      <td>57.0</td>\n",
              "      <td>1.0</td>\n",
              "      <td>4.0</td>\n",
              "      <td>130.0</td>\n",
              "      <td>131.0</td>\n",
              "      <td>0.0</td>\n",
              "      <td>0.0</td>\n",
              "      <td>115.0</td>\n",
              "      <td>1.0</td>\n",
              "      <td>1.2</td>\n",
              "      <td>2.0</td>\n",
              "      <td>1.0</td>\n",
              "      <td>7.0</td>\n",
              "      <td>3</td>\n",
              "    </tr>\n",
              "    <tr>\n",
              "      <th>301</th>\n",
              "      <td>57.0</td>\n",
              "      <td>0.0</td>\n",
              "      <td>2.0</td>\n",
              "      <td>130.0</td>\n",
              "      <td>236.0</td>\n",
              "      <td>0.0</td>\n",
              "      <td>2.0</td>\n",
              "      <td>174.0</td>\n",
              "      <td>0.0</td>\n",
              "      <td>0.0</td>\n",
              "      <td>2.0</td>\n",
              "      <td>1.0</td>\n",
              "      <td>3.0</td>\n",
              "      <td>1</td>\n",
              "    </tr>\n",
              "    <tr>\n",
              "      <th>302</th>\n",
              "      <td>38.0</td>\n",
              "      <td>1.0</td>\n",
              "      <td>3.0</td>\n",
              "      <td>138.0</td>\n",
              "      <td>175.0</td>\n",
              "      <td>0.0</td>\n",
              "      <td>0.0</td>\n",
              "      <td>173.0</td>\n",
              "      <td>0.0</td>\n",
              "      <td>0.0</td>\n",
              "      <td>1.0</td>\n",
              "      <td>?</td>\n",
              "      <td>3.0</td>\n",
              "      <td>0</td>\n",
              "    </tr>\n",
              "  </tbody>\n",
              "</table>\n",
              "</div>"
            ],
            "text/plain": [
              "      age  sex   cp  trestbps   chol  ...  oldpeak  slope   ca  thal  class\n",
              "280  57.0  1.0  4.0     110.0  335.0  ...      3.0    2.0  1.0   7.0      2\n",
              "281  47.0  1.0  3.0     130.0  253.0  ...      0.0    1.0  0.0   3.0      0\n",
              "282  55.0  0.0  4.0     128.0  205.0  ...      2.0    2.0  1.0   7.0      3\n",
              "283  35.0  1.0  2.0     122.0  192.0  ...      0.0    1.0  0.0   3.0      0\n",
              "284  61.0  1.0  4.0     148.0  203.0  ...      0.0    1.0  1.0   7.0      2\n",
              "285  58.0  1.0  4.0     114.0  318.0  ...      4.4    3.0  3.0   6.0      4\n",
              "286  58.0  0.0  4.0     170.0  225.0  ...      2.8    2.0  2.0   6.0      2\n",
              "287  58.0  1.0  2.0     125.0  220.0  ...      0.4    2.0    ?   7.0      0\n",
              "288  56.0  1.0  2.0     130.0  221.0  ...      0.0    1.0  0.0   7.0      0\n",
              "289  56.0  1.0  2.0     120.0  240.0  ...      0.0    3.0  0.0   3.0      0\n",
              "290  67.0  1.0  3.0     152.0  212.0  ...      0.8    2.0  0.0   7.0      1\n",
              "291  55.0  0.0  2.0     132.0  342.0  ...      1.2    1.0  0.0   3.0      0\n",
              "292  44.0  1.0  4.0     120.0  169.0  ...      2.8    3.0  0.0   6.0      2\n",
              "293  63.0  1.0  4.0     140.0  187.0  ...      4.0    1.0  2.0   7.0      2\n",
              "294  63.0  0.0  4.0     124.0  197.0  ...      0.0    2.0  0.0   3.0      1\n",
              "295  41.0  1.0  2.0     120.0  157.0  ...      0.0    1.0  0.0   3.0      0\n",
              "296  59.0  1.0  4.0     164.0  176.0  ...      1.0    2.0  2.0   6.0      3\n",
              "297  57.0  0.0  4.0     140.0  241.0  ...      0.2    2.0  0.0   7.0      1\n",
              "298  45.0  1.0  1.0     110.0  264.0  ...      1.2    2.0  0.0   7.0      1\n",
              "299  68.0  1.0  4.0     144.0  193.0  ...      3.4    2.0  2.0   7.0      2\n",
              "300  57.0  1.0  4.0     130.0  131.0  ...      1.2    2.0  1.0   7.0      3\n",
              "301  57.0  0.0  2.0     130.0  236.0  ...      0.0    2.0  1.0   3.0      1\n",
              "302  38.0  1.0  3.0     138.0  175.0  ...      0.0    1.0    ?   3.0      0\n",
              "\n",
              "[23 rows x 14 columns]"
            ]
          },
          "metadata": {
            "tags": []
          },
          "execution_count": 646
        }
      ]
    },
    {
      "cell_type": "markdown",
      "metadata": {
        "id": "OMBGEli6Yfh7",
        "colab_type": "text"
      },
      "source": [
        "### Data Cleaning:"
      ]
    },
    {
      "cell_type": "markdown",
      "metadata": {
        "id": "WapzA-YlYDZm",
        "colab_type": "text"
      },
      "source": [
        "Data Cleaning: Drop rows with \"?\""
      ]
    },
    {
      "cell_type": "code",
      "metadata": {
        "id": "1u9wFSdjkIwx",
        "colab_type": "code",
        "colab": {}
      },
      "source": [
        "data = data[~data.isin(['?'])]\n"
      ],
      "execution_count": 0,
      "outputs": []
    },
    {
      "cell_type": "code",
      "metadata": {
        "id": "MhX1keppk9mY",
        "colab_type": "code",
        "outputId": "dc23f32b-98ad-41c1-f8e7-80271758b5ca",
        "colab": {
          "base_uri": "https://localhost:8080/",
          "height": 34
        }
      },
      "source": [
        "data = data.dropna(axis=0)\n",
        "data.shape"
      ],
      "execution_count": 648,
      "outputs": [
        {
          "output_type": "execute_result",
          "data": {
            "text/plain": [
              "(297, 14)"
            ]
          },
          "metadata": {
            "tags": []
          },
          "execution_count": 648
        }
      ]
    },
    {
      "cell_type": "code",
      "metadata": {
        "id": "tEq0V-mp2Voh",
        "colab_type": "code",
        "outputId": "85c68706-4fa9-4b96-cff1-694523759831",
        "colab": {
          "base_uri": "https://localhost:8080/",
          "height": 295
        }
      },
      "source": [
        "print (data.shape)\n",
        "print (data.dtypes)"
      ],
      "execution_count": 649,
      "outputs": [
        {
          "output_type": "stream",
          "text": [
            "(297, 14)\n",
            "age         float64\n",
            "sex         float64\n",
            "cp          float64\n",
            "trestbps    float64\n",
            "chol        float64\n",
            "fbs         float64\n",
            "restecg     float64\n",
            "thalach     float64\n",
            "exang       float64\n",
            "oldpeak     float64\n",
            "slope       float64\n",
            "ca           object\n",
            "thal         object\n",
            "class         int64\n",
            "dtype: object\n"
          ],
          "name": "stdout"
        }
      ]
    },
    {
      "cell_type": "markdown",
      "metadata": {
        "id": "tXQm_-LAYLDg",
        "colab_type": "text"
      },
      "source": [
        "# Data Visualization:\n"
      ]
    },
    {
      "cell_type": "markdown",
      "metadata": {
        "id": "74Kuhiz4YRhP",
        "colab_type": "text"
      },
      "source": [
        "Pie Chart and Bar Plot to understand frequency for each class:"
      ]
    },
    {
      "cell_type": "code",
      "metadata": {
        "id": "M362Uc37FRQo",
        "colab_type": "code",
        "outputId": "4f2b8343-ed86-4c25-b482-25b400a1671c",
        "colab": {
          "base_uri": "https://localhost:8080/",
          "height": 404
        }
      },
      "source": [
        "\n",
        "\n",
        "# create two plots side by side\n",
        "f, ax = plt.subplots(1,2,figsize=(14,6))\n",
        "data['class'].value_counts().plot.pie(autopct='%1.2f%%', ax=ax[0], shadow=True)\n",
        "ax[0].set_title('Class')\n",
        "ax[0].set_ylabel('')\n",
        "sns.countplot('class', data=data, ax=ax[1])\n",
        "plt.show()\n",
        "\n"
      ],
      "execution_count": 650,
      "outputs": [
        {
          "output_type": "display_data",
          "data": {
            "image/png": "[encoded data removed]",
            "text/plain": [
              "<Figure size 1008x432 with 2 Axes>"
            ]
          },
          "metadata": {
            "tags": [],
            "needs_background": "light"
          }
        }
      ]
    },
    {
      "cell_type": "markdown",
      "metadata": {
        "id": "BRktY_aHYZau",
        "colab_type": "text"
      },
      "source": [
        "Plotting Histograms:"
      ]
    },
    {
      "cell_type": "code",
      "metadata": {
        "id": "GLfF4ITAmfWi",
        "colab_type": "code",
        "outputId": "77b60d56-42fa-44f7-e7ea-cfb678fc6c55",
        "colab": {
          "base_uri": "https://localhost:8080/",
          "height": 716
        }
      },
      "source": [
        "data.hist(figsize = (20, 12))\n",
        "plt.show()"
      ],
      "execution_count": 651,
      "outputs": [
        {
          "output_type": "display_data",
          "data": {
            "image/png": "[encoded data removed]",
            "text/plain": [
              "<Figure size 1440x864 with 12 Axes>"
            ]
          },
          "metadata": {
            "tags": [],
            "needs_background": "light"
          }
        }
      ]
    },
    {
      "cell_type": "markdown",
      "metadata": {
        "id": "aXDJ1ggNaNKT",
        "colab_type": "text"
      },
      "source": [
        "create swarmplot inside the violinplot for each class:\n"
      ]
    },
    {
      "cell_type": "code",
      "metadata": {
        "id": "4eW90xDXWOOd",
        "colab_type": "code",
        "outputId": "f6f2ae1b-6183-4bf7-95cb-0c13bbacf50b",
        "colab": {
          "base_uri": "https://localhost:8080/",
          "height": 442
        }
      },
      "source": [
        "\n",
        "\n",
        "plt.figure(figsize=(13,7))\n",
        "plt.subplot(121)\n",
        "sns.violinplot(x=\"class\", y=\"thalach\", data=data, inner=None)\n",
        "sns.swarmplot(x='class', y=\"thalach\", data=data, color='w', alpha=0.5)\n",
        "plt.subplot(122)\n",
        "sns.swarmplot(x='class', y='age', data=data)\n",
        "plt.show()\n",
        "\n"
      ],
      "execution_count": 652,
      "outputs": [
        {
          "output_type": "display_data",
          "data": {
            "image/png": "[encoded data removed]",
            "text/plain": [
              "<Figure size 936x504 with 2 Axes>"
            ]
          },
          "metadata": {
            "tags": [],
            "needs_background": "light"
          }
        }
      ]
    },
    {
      "cell_type": "markdown",
      "metadata": {
        "id": "_L2ZOzq0akAf",
        "colab_type": "text"
      },
      "source": [
        "Heatmap Generation:"
      ]
    },
    {
      "cell_type": "code",
      "metadata": {
        "id": "HmPpUampmpb_",
        "colab_type": "code",
        "outputId": "c20462e8-39c6-4b05-cec3-d50715761a8f",
        "colab": {
          "base_uri": "https://localhost:8080/",
          "height": 595
        }
      },
      "source": [
        "plt.figure(figsize = (14, 10)) \n",
        "sns.heatmap(data.corr(), cmap='Reds',annot=True, linecolor='Yellow', linewidths=2.0)\n",
        "plt.show()"
      ],
      "execution_count": 653,
      "outputs": [
        {
          "output_type": "display_data",
          "data": {
            "image/png": "[encoded data removed]",
            "text/plain": [
              "<Figure size 1008x720 with 2 Axes>"
            ]
          },
          "metadata": {
            "tags": [],
            "needs_background": "light"
          }
        }
      ]
    },
    {
      "cell_type": "markdown",
      "metadata": {
        "id": "POytox6uaqyi",
        "colab_type": "text"
      },
      "source": [
        "catplot between sex and distribution of target class frequency based on sex:"
      ]
    },
    {
      "cell_type": "code",
      "metadata": {
        "id": "ZIMuBA7mnDYw",
        "colab_type": "code",
        "outputId": "351e229e-215b-462c-fe3a-f44ef385dbbf",
        "colab": {
          "base_uri": "https://localhost:8080/",
          "height": 369
        }
      },
      "source": [
        "#plt.figure(figsize = (50, 20)) \n",
        "\n",
        "sns.catplot(data=data, kind='count', x='sex',hue='class',height=5, aspect=2)\n",
        "plt.show()"
      ],
      "execution_count": 654,
      "outputs": [
        {
          "output_type": "display_data",
          "data": {
            "image/png": "[encoded data removed]",
            "text/plain": [
              "<Figure size 762.375x360 with 1 Axes>"
            ]
          },
          "metadata": {
            "tags": [],
            "needs_background": "light"
          }
        }
      ]
    },
    {
      "cell_type": "markdown",
      "metadata": {
        "id": "HlJpZIMKciWi",
        "colab_type": "text"
      },
      "source": [
        "catplot between distribution of target class frequency based on number of major vessels (0-3) colored by flourosopy:"
      ]
    },
    {
      "cell_type": "code",
      "metadata": {
        "id": "kW7CXah72Kv2",
        "colab_type": "code",
        "outputId": "1eacc618-af30-4a30-d567-1102953e10ce",
        "colab": {
          "base_uri": "https://localhost:8080/",
          "height": 458
        }
      },
      "source": [
        "\n",
        "sns.catplot(data=data, kind='count', x='ca',hue='class',height=6, aspect=2)\n",
        "plt.figure(figsize = (50, 20)) \n",
        "\n",
        "plt.show()"
      ],
      "execution_count": 655,
      "outputs": [
        {
          "output_type": "display_data",
          "data": {
            "image/png": "[encoded data removed]",
            "text/plain": [
              "<Figure size 906.375x432 with 1 Axes>"
            ]
          },
          "metadata": {
            "tags": [],
            "needs_background": "light"
          }
        },
        {
          "output_type": "display_data",
          "data": {
            "text/plain": [
              "<Figure size 3600x1440 with 0 Axes>"
            ]
          },
          "metadata": {
            "tags": []
          }
        }
      ]
    },
    {
      "cell_type": "markdown",
      "metadata": {
        "id": "t4qjWwxMcwNN",
        "colab_type": "text"
      },
      "source": [
        "catplot between distribution of target class frequency based on chest pain type"
      ]
    },
    {
      "cell_type": "code",
      "metadata": {
        "id": "AqaGEhB-ZfE3",
        "colab_type": "code",
        "outputId": "9c0126ef-53ef-4bff-be64-2ee3d9e21410",
        "colab": {
          "base_uri": "https://localhost:8080/",
          "height": 458
        }
      },
      "source": [
        "\n",
        "sns.catplot(data=data, kind='count', x='cp',hue='class',height=6, aspect=2)\n",
        "plt.xlabel(\"1: typical angina          2: atypical angina          3: non-anginal pain          4: asymptomatic\")\n",
        "plt.figure(figsize = (50, 20)) \n",
        "\n",
        "plt.show()"
      ],
      "execution_count": 656,
      "outputs": [
        {
          "output_type": "display_data",
          "data": {
            "image/png": "[encoded data removed]",
            "text/plain": [
              "<Figure size 906.375x432 with 1 Axes>"
            ]
          },
          "metadata": {
            "tags": [],
            "needs_background": "light"
          }
        },
        {
          "output_type": "display_data",
          "data": {
            "text/plain": [
              "<Figure size 3600x1440 with 0 Axes>"
            ]
          },
          "metadata": {
            "tags": []
          }
        }
      ]
    },
    {
      "cell_type": "markdown",
      "metadata": {
        "id": "GKrZKeK5dw_2",
        "colab_type": "text"
      },
      "source": [
        "Scatter Plot"
      ]
    },
    {
      "cell_type": "code",
      "metadata": {
        "id": "y2L1prglI9RF",
        "colab_type": "code",
        "outputId": "718970f1-c7ad-4e08-a052-3dce986689ee",
        "colab": {
          "base_uri": "https://localhost:8080/",
          "height": 404
        }
      },
      "source": [
        "# create another figure\n",
        "\n",
        "plt.figure(figsize=(10,6))\n",
        "\n",
        "# scatter with positive examples\n",
        "plt.scatter(data.age[data.sex==0],\n",
        "            data.trestbps[data.sex==0],\n",
        "            c=\"salmon\");\n",
        "\n",
        "# scatter with negative exaples\n",
        "plt.scatter(data.age[data.sex==1],\n",
        "            data.trestbps[data.sex==1],\n",
        "            c=\"lightblue\");\n",
        "plt.title(\"Scatter plot between Age and Max Heart Rate with respect to sex\")\n",
        "plt.xlabel(\"Age\")\n",
        "plt.ylabel(\"Max Heart Rate\")\n",
        "plt.legend([\"Male\", \"Female\"]);"
      ],
      "execution_count": 657,
      "outputs": [
        {
          "output_type": "display_data",
          "data": {
            "image/png": "[encoded data removed]",
            "text/plain": [
              "<Figure size 720x432 with 1 Axes>"
            ]
          },
          "metadata": {
            "tags": [],
            "needs_background": "light"
          }
        }
      ]
    },
    {
      "cell_type": "markdown",
      "metadata": {
        "id": "f4umfiDze5_w",
        "colab_type": "text"
      },
      "source": [
        "crosstab creation:"
      ]
    },
    {
      "cell_type": "code",
      "metadata": {
        "id": "VcfNYDGBMKtz",
        "colab_type": "code",
        "outputId": "30fc7074-d19a-43aa-ded2-fd800f2fec53",
        "colab": {
          "base_uri": "https://localhost:8080/",
          "height": 404
        }
      },
      "source": [
        "\n",
        "\n",
        "# Making it more visual\n",
        "\n",
        "pd.crosstab(data.cp,data.sex).plot(kind=\"bar\", figsize=(10,6), color=[\"salmon\",\"lightblue\"])\n",
        "\n",
        "plt.title(\"Distribution of Chest Pain type based on sex\")\n",
        "plt.xlabel(\"1: typical angina     2: atypical angina     3: non-anginal pain     4: asymptomatic\")\n",
        "plt.ylabel(\"No of people\")\n",
        "plt.legend([\"Male\", \"Female\"]);\n",
        "plt.xticks(rotation=0);\n",
        "\n"
      ],
      "execution_count": 658,
      "outputs": [
        {
          "output_type": "display_data",
          "data": {
            "image/png": "[encoded data removed]",
            "text/plain": [
              "<Figure size 720x432 with 1 Axes>"
            ]
          },
          "metadata": {
            "tags": [],
            "needs_background": "light"
          }
        }
      ]
    },
    {
      "cell_type": "code",
      "metadata": {
        "id": "wgOL055lM1vK",
        "colab_type": "code",
        "outputId": "74f34b3f-f376-41e1-9a04-67dc7be83ebc",
        "colab": {
          "base_uri": "https://localhost:8080/",
          "height": 404
        }
      },
      "source": [
        "\n",
        "\n",
        "pd.crosstab(data.fbs, data.sex).plot(kind=\"bar\", figsize=(10,6), color=[\"salmon\",\"lightblue\"])\n",
        "plt.title(\"Distribution of Fasting sugar Frequency based on Sex\")\n",
        "plt.xlabel(\"0 = False, 1 = True\")\n",
        "plt.ylabel(\"No of people\")\n",
        "plt.legend([\"Female\",\"Male\"]);\n",
        "plt.xticks(rotation=0);\n",
        "\n"
      ],
      "execution_count": 659,
      "outputs": [
        {
          "output_type": "display_data",
          "data": {
            "image/png": "[encoded data removed]",
            "text/plain": [
              "<Figure size 720x432 with 1 Axes>"
            ]
          },
          "metadata": {
            "tags": [],
            "needs_background": "light"
          }
        }
      ]
    },
    {
      "cell_type": "code",
      "metadata": {
        "id": "l_hKTgUVNi9T",
        "colab_type": "code",
        "colab": {}
      },
      "source": [
        ""
      ],
      "execution_count": 0,
      "outputs": []
    },
    {
      "cell_type": "markdown",
      "metadata": {
        "id": "mNoJo7K3fwAT",
        "colab_type": "text"
      },
      "source": [
        "Plotting catplot with two variables:"
      ]
    },
    {
      "cell_type": "code",
      "metadata": {
        "id": "W5hfMXqWnuVc",
        "colab_type": "code",
        "outputId": "6e3ca9d9-30d6-45f1-dc97-045b94399929",
        "colab": {
          "base_uri": "https://localhost:8080/",
          "height": 1000
        }
      },
      "source": [
        "sns.catplot(data=data, kind='count', x='class', col='sex',row='slope', palette='Reds')\n",
        "plt.show()"
      ],
      "execution_count": 660,
      "outputs": [
        {
          "output_type": "display_data",
          "data": {
            "image/png": "[encoded data removed]",
            "text/plain": [
              "<Figure size 720x1080 with 6 Axes>"
            ]
          },
          "metadata": {
            "tags": [],
            "needs_background": "light"
          }
        }
      ]
    },
    {
      "cell_type": "code",
      "metadata": {
        "id": "qrIb3VL-53jX",
        "colab_type": "code",
        "outputId": "27f62cc0-2e27-4d3f-dd9f-522bc7000faa",
        "colab": {
          "base_uri": "https://localhost:8080/",
          "height": 729
        }
      },
      "source": [
        "sns.catplot(data=data, kind='count', x='class', col='sex',row='exang', palette='Blues')\n",
        "plt.show()"
      ],
      "execution_count": 661,
      "outputs": [
        {
          "output_type": "display_data",
          "data": {
            "image/png": "[encoded data removed]",
            "text/plain": [
              "<Figure size 720x720 with 4 Axes>"
            ]
          },
          "metadata": {
            "tags": [],
            "needs_background": "light"
          }
        }
      ]
    },
    {
      "cell_type": "markdown",
      "metadata": {
        "id": "zc3qFRtwgHC1",
        "colab_type": "text"
      },
      "source": [
        "Plotting countplot:"
      ]
    },
    {
      "cell_type": "code",
      "metadata": {
        "id": "pEfogAr8S7a8",
        "colab_type": "code",
        "outputId": "1ff3cc8e-4f31-4d9c-f698-104c03a9f15b",
        "colab": {
          "base_uri": "https://localhost:8080/",
          "height": 296
        }
      },
      "source": [
        "sns.countplot(data[\"ca\"])"
      ],
      "execution_count": 662,
      "outputs": [
        {
          "output_type": "execute_result",
          "data": {
            "text/plain": [
              "<matplotlib.axes._subplots.AxesSubplot at 0x7fe57908bb38>"
            ]
          },
          "metadata": {
            "tags": []
          },
          "execution_count": 662
        },
        {
          "output_type": "display_data",
          "data": {
            "image/png": "[encoded data removed]",
            "text/plain": [
              "<Figure size 432x288 with 1 Axes>"
            ]
          },
          "metadata": {
            "tags": [],
            "needs_background": "light"
          }
        }
      ]
    },
    {
      "cell_type": "code",
      "metadata": {
        "id": "St5Ad4IZgAom",
        "colab_type": "code",
        "outputId": "0dbab7c9-7934-448d-ad4c-7cfd06d2b2be",
        "colab": {
          "base_uri": "https://localhost:8080/",
          "height": 296
        }
      },
      "source": [
        "sns.countplot(data[\"sex\"])"
      ],
      "execution_count": 663,
      "outputs": [
        {
          "output_type": "execute_result",
          "data": {
            "text/plain": [
              "<matplotlib.axes._subplots.AxesSubplot at 0x7fe579027908>"
            ]
          },
          "metadata": {
            "tags": []
          },
          "execution_count": 663
        },
        {
          "output_type": "display_data",
          "data": {
            "image/png": "[encoded data removed]",
            "text/plain": [
              "<Figure size 432x288 with 1 Axes>"
            ]
          },
          "metadata": {
            "tags": [],
            "needs_background": "light"
          }
        }
      ]
    },
    {
      "cell_type": "code",
      "metadata": {
        "id": "ANoGU4dzgPKy",
        "colab_type": "code",
        "outputId": "dcab9b97-107a-4a73-d1f2-0490e478e6bf",
        "colab": {
          "base_uri": "https://localhost:8080/",
          "height": 296
        }
      },
      "source": [
        "sns.countplot(data[\"fbs\"]) "
      ],
      "execution_count": 664,
      "outputs": [
        {
          "output_type": "execute_result",
          "data": {
            "text/plain": [
              "<matplotlib.axes._subplots.AxesSubplot at 0x7fe578ff0ba8>"
            ]
          },
          "metadata": {
            "tags": []
          },
          "execution_count": 664
        },
        {
          "output_type": "display_data",
          "data": {
            "image/png": "[encoded data removed]",
            "text/plain": [
              "<Figure size 432x288 with 1 Axes>"
            ]
          },
          "metadata": {
            "tags": [],
            "needs_background": "light"
          }
        }
      ]
    },
    {
      "cell_type": "code",
      "metadata": {
        "id": "36ZrGGCdgTHK",
        "colab_type": "code",
        "outputId": "a73bbe3c-9f8d-4ddb-b599-005dc54d047f",
        "colab": {
          "base_uri": "https://localhost:8080/",
          "height": 296
        }
      },
      "source": [
        "sns.countplot(data[\"restecg\"])"
      ],
      "execution_count": 665,
      "outputs": [
        {
          "output_type": "execute_result",
          "data": {
            "text/plain": [
              "<matplotlib.axes._subplots.AxesSubplot at 0x7fe578f59828>"
            ]
          },
          "metadata": {
            "tags": []
          },
          "execution_count": 665
        },
        {
          "output_type": "display_data",
          "data": {
            "image/png": "[encoded data removed]",
            "text/plain": [
              "<Figure size 432x288 with 1 Axes>"
            ]
          },
          "metadata": {
            "tags": [],
            "needs_background": "light"
          }
        }
      ]
    },
    {
      "cell_type": "code",
      "metadata": {
        "id": "AHN6JEcPgfAY",
        "colab_type": "code",
        "outputId": "752fe8cb-50dc-4985-b0f4-a6d318c6da73",
        "colab": {
          "base_uri": "https://localhost:8080/",
          "height": 296
        }
      },
      "source": [
        "sns.countplot(data[\"exang\"])"
      ],
      "execution_count": 666,
      "outputs": [
        {
          "output_type": "execute_result",
          "data": {
            "text/plain": [
              "<matplotlib.axes._subplots.AxesSubplot at 0x7fe578f0eeb8>"
            ]
          },
          "metadata": {
            "tags": []
          },
          "execution_count": 666
        },
        {
          "output_type": "display_data",
          "data": {
            "image/png": "[encoded data removed]",
            "text/plain": [
              "<Figure size 432x288 with 1 Axes>"
            ]
          },
          "metadata": {
            "tags": [],
            "needs_background": "light"
          }
        }
      ]
    },
    {
      "cell_type": "code",
      "metadata": {
        "id": "5nzunYK8g1ZB",
        "colab_type": "code",
        "outputId": "0f41d2c0-f5f8-4d68-891d-467343628273",
        "colab": {
          "base_uri": "https://localhost:8080/",
          "height": 296
        }
      },
      "source": [
        "sns.countplot(data[\"slope\"])"
      ],
      "execution_count": 667,
      "outputs": [
        {
          "output_type": "execute_result",
          "data": {
            "text/plain": [
              "<matplotlib.axes._subplots.AxesSubplot at 0x7fe578eee780>"
            ]
          },
          "metadata": {
            "tags": []
          },
          "execution_count": 667
        },
        {
          "output_type": "display_data",
          "data": {
            "image/png": "[encoded data removed]",
            "text/plain": [
              "<Figure size 432x288 with 1 Axes>"
            ]
          },
          "metadata": {
            "tags": [],
            "needs_background": "light"
          }
        }
      ]
    },
    {
      "cell_type": "code",
      "metadata": {
        "id": "R13nJ4bohCod",
        "colab_type": "code",
        "outputId": "5e7f25f5-34f2-4910-f9df-6b0c77c1fbf0",
        "colab": {
          "base_uri": "https://localhost:8080/",
          "height": 296
        }
      },
      "source": [
        "sns.countplot(data[\"thal\"])"
      ],
      "execution_count": 668,
      "outputs": [
        {
          "output_type": "execute_result",
          "data": {
            "text/plain": [
              "<matplotlib.axes._subplots.AxesSubplot at 0x7fe578e49240>"
            ]
          },
          "metadata": {
            "tags": []
          },
          "execution_count": 668
        },
        {
          "output_type": "display_data",
          "data": {
            "image/png": "[encoded data removed]",
            "text/plain": [
              "<Figure size 432x288 with 1 Axes>"
            ]
          },
          "metadata": {
            "tags": [],
            "needs_background": "light"
          }
        }
      ]
    },
    {
      "cell_type": "markdown",
      "metadata": {
        "id": "3cLfxAu3fdAD",
        "colab_type": "text"
      },
      "source": [
        "Plotting univariate distributions:"
      ]
    },
    {
      "cell_type": "markdown",
      "metadata": {
        "id": "xrqkB5oPhBpS",
        "colab_type": "text"
      },
      "source": [
        ""
      ]
    },
    {
      "cell_type": "code",
      "metadata": {
        "id": "rh2-Ck4BRa4s",
        "colab_type": "code",
        "outputId": "b837a0fa-1d58-4bab-df8c-270af8c47ed2",
        "colab": {
          "base_uri": "https://localhost:8080/",
          "height": 296
        }
      },
      "source": [
        "sns.distplot(data[\"cp\"])"
      ],
      "execution_count": 669,
      "outputs": [
        {
          "output_type": "execute_result",
          "data": {
            "text/plain": [
              "<matplotlib.axes._subplots.AxesSubplot at 0x7fe578e220f0>"
            ]
          },
          "metadata": {
            "tags": []
          },
          "execution_count": 669
        },
        {
          "output_type": "display_data",
          "data": {
            "image/png": "[encoded data removed]",
            "text/plain": [
              "<Figure size 432x288 with 1 Axes>"
            ]
          },
          "metadata": {
            "tags": [],
            "needs_background": "light"
          }
        }
      ]
    },
    {
      "cell_type": "code",
      "metadata": {
        "id": "KKwc4jmKa6Bd",
        "colab_type": "code",
        "outputId": "25fddd99-9faa-42b5-aa8f-1c6dab1f3a01",
        "colab": {
          "base_uri": "https://localhost:8080/",
          "height": 296
        }
      },
      "source": [
        "sns.distplot(data[\"ca\"])"
      ],
      "execution_count": 670,
      "outputs": [
        {
          "output_type": "execute_result",
          "data": {
            "text/plain": [
              "<matplotlib.axes._subplots.AxesSubplot at 0x7fe578db63c8>"
            ]
          },
          "metadata": {
            "tags": []
          },
          "execution_count": 670
        },
        {
          "output_type": "display_data",
          "data": {
            "image/png": "[encoded data removed]",
            "text/plain": [
              "<Figure size 432x288 with 1 Axes>"
            ]
          },
          "metadata": {
            "tags": [],
            "needs_background": "light"
          }
        }
      ]
    },
    {
      "cell_type": "code",
      "metadata": {
        "id": "BFv8ZwQj4aiq",
        "colab_type": "code",
        "outputId": "f36224a7-9270-437b-e98c-e6c01a395dfe",
        "colab": {
          "base_uri": "https://localhost:8080/",
          "height": 296
        }
      },
      "source": [
        "sns.distplot(data[\"thal\"])"
      ],
      "execution_count": 671,
      "outputs": [
        {
          "output_type": "execute_result",
          "data": {
            "text/plain": [
              "<matplotlib.axes._subplots.AxesSubplot at 0x7fe578d34080>"
            ]
          },
          "metadata": {
            "tags": []
          },
          "execution_count": 671
        },
        {
          "output_type": "display_data",
          "data": {
            "image/png": "[encoded data removed]",
            "text/plain": [
              "<Figure size 432x288 with 1 Axes>"
            ]
          },
          "metadata": {
            "tags": [],
            "needs_background": "light"
          }
        }
      ]
    },
    {
      "cell_type": "code",
      "metadata": {
        "id": "em73ZXcMaxyn",
        "colab_type": "code",
        "outputId": "bd4b938b-3f81-47f4-a76c-04747db6c151",
        "colab": {
          "base_uri": "https://localhost:8080/",
          "height": 296
        }
      },
      "source": [
        "sns.distplot(data[\"slope\"])"
      ],
      "execution_count": 672,
      "outputs": [
        {
          "output_type": "execute_result",
          "data": {
            "text/plain": [
              "<matplotlib.axes._subplots.AxesSubplot at 0x7fe578ca2588>"
            ]
          },
          "metadata": {
            "tags": []
          },
          "execution_count": 672
        },
        {
          "output_type": "display_data",
          "data": {
            "image/png": "[encoded data removed]",
            "text/plain": [
              "<Figure size 432x288 with 1 Axes>"
            ]
          },
          "metadata": {
            "tags": [],
            "needs_background": "light"
          }
        }
      ]
    },
    {
      "cell_type": "code",
      "metadata": {
        "id": "DiL4oOp0boeA",
        "colab_type": "code",
        "outputId": "8cfefb18-9dea-4c37-e03d-45f6c909e768",
        "colab": {
          "base_uri": "https://localhost:8080/",
          "height": 296
        }
      },
      "source": [
        "sns.distplot(data[\"oldpeak\"])"
      ],
      "execution_count": 673,
      "outputs": [
        {
          "output_type": "execute_result",
          "data": {
            "text/plain": [
              "<matplotlib.axes._subplots.AxesSubplot at 0x7fe578e66a90>"
            ]
          },
          "metadata": {
            "tags": []
          },
          "execution_count": 673
        },
        {
          "output_type": "display_data",
          "data": {
            "image/png": "[encoded data removed]",
            "text/plain": [
              "<Figure size 432x288 with 1 Axes>"
            ]
          },
          "metadata": {
            "tags": [],
            "needs_background": "light"
          }
        }
      ]
    },
    {
      "cell_type": "code",
      "metadata": {
        "id": "5FMWxrb9DkTV",
        "colab_type": "code",
        "outputId": "52b3f262-9c4c-48f4-c124-a7028d110ea4",
        "colab": {
          "base_uri": "https://localhost:8080/",
          "height": 296
        }
      },
      "source": [
        "y = data[\"sex\"]\n",
        "\n",
        "sns.barplot(data[\"exang\"],y)\n"
      ],
      "execution_count": 674,
      "outputs": [
        {
          "output_type": "execute_result",
          "data": {
            "text/plain": [
              "<matplotlib.axes._subplots.AxesSubplot at 0x7fe578b93be0>"
            ]
          },
          "metadata": {
            "tags": []
          },
          "execution_count": 674
        },
        {
          "output_type": "display_data",
          "data": {
            "image/png": "[encoded data removed]",
            "text/plain": [
              "<Figure size 432x288 with 1 Axes>"
            ]
          },
          "metadata": {
            "tags": [],
            "needs_background": "light"
          }
        }
      ]
    },
    {
      "cell_type": "code",
      "metadata": {
        "id": "2M4q00EZTVX7",
        "colab_type": "code",
        "outputId": "26cab2f3-8a81-4776-e08f-f0cc915ef41c",
        "colab": {
          "base_uri": "https://localhost:8080/",
          "height": 296
        }
      },
      "source": [
        "sns.barplot(data[\"ca\"],y)"
      ],
      "execution_count": 675,
      "outputs": [
        {
          "output_type": "execute_result",
          "data": {
            "text/plain": [
              "<matplotlib.axes._subplots.AxesSubplot at 0x7fe578b51748>"
            ]
          },
          "metadata": {
            "tags": []
          },
          "execution_count": 675
        },
        {
          "output_type": "display_data",
          "data": {
            "image/png": "[encoded data removed]",
            "text/plain": [
              "<Figure size 432x288 with 1 Axes>"
            ]
          },
          "metadata": {
            "tags": [],
            "needs_background": "light"
          }
        }
      ]
    },
    {
      "cell_type": "code",
      "metadata": {
        "id": "MXCWrOeFR9hy",
        "colab_type": "code",
        "outputId": "9c09b0a0-f854-44b6-a3a7-73baa166e65c",
        "colab": {
          "base_uri": "https://localhost:8080/",
          "height": 296
        }
      },
      "source": [
        "sns.barplot(data[\"exang\"],y)\n"
      ],
      "execution_count": 676,
      "outputs": [
        {
          "output_type": "execute_result",
          "data": {
            "text/plain": [
              "<matplotlib.axes._subplots.AxesSubplot at 0x7fe578ad0828>"
            ]
          },
          "metadata": {
            "tags": []
          },
          "execution_count": 676
        },
        {
          "output_type": "display_data",
          "data": {
            "image/png": "[encoded data removed]",
            "text/plain": [
              "<Figure size 432x288 with 1 Axes>"
            ]
          },
          "metadata": {
            "tags": [],
            "needs_background": "light"
          }
        }
      ]
    },
    {
      "cell_type": "code",
      "metadata": {
        "id": "wFj28bN8TT-g",
        "colab_type": "code",
        "outputId": "be26d1f7-a9a7-4104-f056-e63b9942ae74",
        "colab": {
          "base_uri": "https://localhost:8080/",
          "height": 296
        }
      },
      "source": [
        "sns.barplot(data[\"slope\"],y)\n"
      ],
      "execution_count": 677,
      "outputs": [
        {
          "output_type": "execute_result",
          "data": {
            "text/plain": [
              "<matplotlib.axes._subplots.AxesSubplot at 0x7fe578aad6a0>"
            ]
          },
          "metadata": {
            "tags": []
          },
          "execution_count": 677
        },
        {
          "output_type": "display_data",
          "data": {
            "image/png": "[encoded data removed]",
            "text/plain": [
              "<Figure size 432x288 with 1 Axes>"
            ]
          },
          "metadata": {
            "tags": [],
            "needs_background": "light"
          }
        }
      ]
    },
    {
      "cell_type": "markdown",
      "metadata": {
        "id": "_WqM2Zl4hPhh",
        "colab_type": "text"
      },
      "source": [
        "### Algorith Implementation:"
      ]
    },
    {
      "cell_type": "markdown",
      "metadata": {
        "id": "Ijme0gFEhhEr",
        "colab_type": "text"
      },
      "source": [
        "Neural Network:"
      ]
    },
    {
      "cell_type": "code",
      "metadata": {
        "id": "iV5pofshob-B",
        "colab_type": "code",
        "colab": {}
      },
      "source": [
        "\n",
        "# create X and Y datasets for training\n",
        "from sklearn import model_selection\n",
        "\n",
        "X = np.array(data.drop(['class'], 1))\n",
        "y = np.array(data['class'])\n",
        "\n",
        "X_train, X_test, y_train, y_test = model_selection.train_test_split(X, y, test_size = 0.2)"
      ],
      "execution_count": 0,
      "outputs": []
    },
    {
      "cell_type": "code",
      "metadata": {
        "id": "Kxd6IIQ6od44",
        "colab_type": "code",
        "outputId": "187021ff-05ae-4076-8e61-48db63ceb527",
        "colab": {
          "base_uri": "https://localhost:8080/",
          "height": 208
        }
      },
      "source": [
        "# convert the data to categorical labels\n",
        "from keras.utils.np_utils import to_categorical\n",
        "\n",
        "Y_train = to_categorical(y_train, num_classes=None)\n",
        "Y_test = to_categorical(y_test, num_classes=None)\n",
        "print (Y_train.shape)\n",
        "print (Y_train[:10])"
      ],
      "execution_count": 679,
      "outputs": [
        {
          "output_type": "stream",
          "text": [
            "(237, 5)\n",
            "[[1. 0. 0. 0. 0.]\n",
            " [1. 0. 0. 0. 0.]\n",
            " [1. 0. 0. 0. 0.]\n",
            " [0. 1. 0. 0. 0.]\n",
            " [1. 0. 0. 0. 0.]\n",
            " [1. 0. 0. 0. 0.]\n",
            " [1. 0. 0. 0. 0.]\n",
            " [1. 0. 0. 0. 0.]\n",
            " [1. 0. 0. 0. 0.]\n",
            " [1. 0. 0. 0. 0.]]\n"
          ],
          "name": "stdout"
        }
      ]
    },
    {
      "cell_type": "code",
      "metadata": {
        "id": "lehTsUNloijf",
        "colab_type": "code",
        "colab": {}
      },
      "source": [
        ""
      ],
      "execution_count": 0,
      "outputs": []
    },
    {
      "cell_type": "code",
      "metadata": {
        "id": "j6mNeizVet8-",
        "colab_type": "code",
        "outputId": "c0207630-51f3-44f1-ed5e-77ae857f05ef",
        "colab": {
          "base_uri": "https://localhost:8080/",
          "height": 278
        }
      },
      "source": [
        "\n",
        "from keras.models import Sequential\n",
        "from keras.layers import Dense\n",
        "from keras.optimizers import Adam\n",
        "\n",
        "# define a function to build the keras model\n",
        "def create_model():\n",
        "    # create model\n",
        "    model = Sequential()\n",
        "    model.add(Dense(8, input_dim=13, kernel_initializer='normal', activation='relu'))\n",
        "    model.add(Dense(4, kernel_initializer='normal', activation='relu'))\n",
        "    model.add(Dense(5, activation='softmax'))\n",
        "    \n",
        "    # compile model\n",
        "    adam = Adam(lr=0.001)\n",
        "    model.compile(loss='categorical_crossentropy', optimizer=adam, metrics=['accuracy'])\n",
        "    return model\n",
        "\n",
        "model = create_model()\n",
        "\n",
        "print(model.summary())"
      ],
      "execution_count": 680,
      "outputs": [
        {
          "output_type": "stream",
          "text": [
            "Model: \"sequential_13\"\n",
            "_________________________________________________________________\n",
            "Layer (type)                 Output Shape              Param #   \n",
            "=================================================================\n",
            "dense_43 (Dense)             (None, 8)                 112       \n",
            "_________________________________________________________________\n",
            "dense_44 (Dense)             (None, 4)                 36        \n",
            "_________________________________________________________________\n",
            "dense_45 (Dense)             (None, 5)                 25        \n",
            "=================================================================\n",
            "Total params: 173\n",
            "Trainable params: 173\n",
            "Non-trainable params: 0\n",
            "_________________________________________________________________\n",
            "None\n"
          ],
          "name": "stdout"
        }
      ]
    },
    {
      "cell_type": "code",
      "metadata": {
        "id": "ss7XIVjRoJ31",
        "colab_type": "code",
        "outputId": "579abf2a-1b01-445d-d1be-0ee5f0f6b5b1",
        "colab": {
          "base_uri": "https://localhost:8080/",
          "height": 1000
        }
      },
      "source": [
        "model.fit(X_train, Y_train, epochs=100, batch_size=10, verbose = 1)\n"
      ],
      "execution_count": 681,
      "outputs": [
        {
          "output_type": "stream",
          "text": [
            "Epoch 1/100\n",
            "237/237 [==============================] - 0s 414us/step - loss: 1.4188 - accuracy: 0.5527\n",
            "Epoch 2/100\n",
            "237/237 [==============================] - 0s 118us/step - loss: 1.3669 - accuracy: 0.5485\n",
            "Epoch 3/100\n",
            "237/237 [==============================] - 0s 128us/step - loss: 1.3396 - accuracy: 0.5570\n",
            "Epoch 4/100\n",
            "237/237 [==============================] - 0s 121us/step - loss: 1.3424 - accuracy: 0.5274\n",
            "Epoch 5/100\n",
            "237/237 [==============================] - 0s 122us/step - loss: 1.3081 - accuracy: 0.5570\n",
            "Epoch 6/100\n",
            "237/237 [==============================] - 0s 137us/step - loss: 1.2923 - accuracy: 0.5570\n",
            "Epoch 7/100\n",
            "237/237 [==============================] - 0s 134us/step - loss: 1.2810 - accuracy: 0.5570\n",
            "Epoch 8/100\n",
            "237/237 [==============================] - 0s 134us/step - loss: 1.2719 - accuracy: 0.5570\n",
            "Epoch 9/100\n",
            "237/237 [==============================] - 0s 131us/step - loss: 1.2500 - accuracy: 0.5570\n",
            "Epoch 10/100\n",
            "237/237 [==============================] - 0s 123us/step - loss: 1.2306 - accuracy: 0.5570\n",
            "Epoch 11/100\n",
            "237/237 [==============================] - 0s 147us/step - loss: 1.2280 - accuracy: 0.5570\n",
            "Epoch 12/100\n",
            "237/237 [==============================] - 0s 141us/step - loss: 1.2109 - accuracy: 0.5527\n",
            "Epoch 13/100\n",
            "237/237 [==============================] - 0s 137us/step - loss: 1.2019 - accuracy: 0.5570\n",
            "Epoch 14/100\n",
            "237/237 [==============================] - 0s 137us/step - loss: 1.1840 - accuracy: 0.5570\n",
            "Epoch 15/100\n",
            "237/237 [==============================] - 0s 212us/step - loss: 1.1846 - accuracy: 0.5570\n",
            "Epoch 16/100\n",
            "237/237 [==============================] - 0s 137us/step - loss: 1.1770 - accuracy: 0.5570\n",
            "Epoch 17/100\n",
            "237/237 [==============================] - 0s 138us/step - loss: 1.1698 - accuracy: 0.5570\n",
            "Epoch 18/100\n",
            "237/237 [==============================] - 0s 140us/step - loss: 1.1683 - accuracy: 0.5654\n",
            "Epoch 19/100\n",
            "237/237 [==============================] - 0s 141us/step - loss: 1.1366 - accuracy: 0.5654\n",
            "Epoch 20/100\n",
            "237/237 [==============================] - 0s 135us/step - loss: 1.1331 - accuracy: 0.5570\n",
            "Epoch 21/100\n",
            "237/237 [==============================] - 0s 142us/step - loss: 1.1294 - accuracy: 0.5570\n",
            "Epoch 22/100\n",
            "237/237 [==============================] - 0s 136us/step - loss: 1.1131 - accuracy: 0.5738\n",
            "Epoch 23/100\n",
            "237/237 [==============================] - 0s 124us/step - loss: 1.1051 - accuracy: 0.5696\n",
            "Epoch 24/100\n",
            "237/237 [==============================] - 0s 115us/step - loss: 1.0907 - accuracy: 0.5696\n",
            "Epoch 25/100\n",
            "237/237 [==============================] - 0s 117us/step - loss: 1.1089 - accuracy: 0.5654\n",
            "Epoch 26/100\n",
            "237/237 [==============================] - 0s 115us/step - loss: 1.0811 - accuracy: 0.5738\n",
            "Epoch 27/100\n",
            "237/237 [==============================] - 0s 113us/step - loss: 1.0831 - accuracy: 0.5654\n",
            "Epoch 28/100\n",
            "237/237 [==============================] - 0s 116us/step - loss: 1.0595 - accuracy: 0.5823\n",
            "Epoch 29/100\n",
            "237/237 [==============================] - 0s 120us/step - loss: 1.0542 - accuracy: 0.5907\n",
            "Epoch 30/100\n",
            "237/237 [==============================] - 0s 129us/step - loss: 1.0660 - accuracy: 0.5823\n",
            "Epoch 31/100\n",
            "237/237 [==============================] - 0s 147us/step - loss: 1.0578 - accuracy: 0.5823\n",
            "Epoch 32/100\n",
            "237/237 [==============================] - 0s 117us/step - loss: 1.0385 - accuracy: 0.5823\n",
            "Epoch 33/100\n",
            "237/237 [==============================] - 0s 163us/step - loss: 1.0280 - accuracy: 0.5823\n",
            "Epoch 34/100\n",
            "237/237 [==============================] - 0s 142us/step - loss: 1.0292 - accuracy: 0.5865\n",
            "Epoch 35/100\n",
            "237/237 [==============================] - 0s 119us/step - loss: 1.0213 - accuracy: 0.5865\n",
            "Epoch 36/100\n",
            "237/237 [==============================] - 0s 121us/step - loss: 1.0166 - accuracy: 0.5949\n",
            "Epoch 37/100\n",
            "237/237 [==============================] - 0s 142us/step - loss: 1.0158 - accuracy: 0.5907\n",
            "Epoch 38/100\n",
            "237/237 [==============================] - 0s 136us/step - loss: 1.0054 - accuracy: 0.5823\n",
            "Epoch 39/100\n",
            "237/237 [==============================] - 0s 123us/step - loss: 1.0010 - accuracy: 0.5907\n",
            "Epoch 40/100\n",
            "237/237 [==============================] - 0s 123us/step - loss: 0.9950 - accuracy: 0.5992\n",
            "Epoch 41/100\n",
            "237/237 [==============================] - 0s 142us/step - loss: 0.9894 - accuracy: 0.5992\n",
            "Epoch 42/100\n",
            "237/237 [==============================] - 0s 137us/step - loss: 0.9894 - accuracy: 0.5949\n",
            "Epoch 43/100\n",
            "237/237 [==============================] - 0s 135us/step - loss: 0.9846 - accuracy: 0.5992\n",
            "Epoch 44/100\n",
            "237/237 [==============================] - 0s 158us/step - loss: 1.0062 - accuracy: 0.5865\n",
            "Epoch 45/100\n",
            "237/237 [==============================] - 0s 206us/step - loss: 0.9903 - accuracy: 0.6118\n",
            "Epoch 46/100\n",
            "237/237 [==============================] - 0s 120us/step - loss: 0.9747 - accuracy: 0.6076\n",
            "Epoch 47/100\n",
            "237/237 [==============================] - 0s 123us/step - loss: 0.9761 - accuracy: 0.5949\n",
            "Epoch 48/100\n",
            "237/237 [==============================] - 0s 121us/step - loss: 0.9693 - accuracy: 0.6076\n",
            "Epoch 49/100\n",
            "237/237 [==============================] - 0s 133us/step - loss: 0.9755 - accuracy: 0.6034\n",
            "Epoch 50/100\n",
            "237/237 [==============================] - 0s 144us/step - loss: 0.9817 - accuracy: 0.6034\n",
            "Epoch 51/100\n",
            "237/237 [==============================] - 0s 114us/step - loss: 0.9622 - accuracy: 0.5992\n",
            "Epoch 52/100\n",
            "237/237 [==============================] - 0s 115us/step - loss: 0.9665 - accuracy: 0.5907\n",
            "Epoch 53/100\n",
            "237/237 [==============================] - 0s 115us/step - loss: 0.9592 - accuracy: 0.6076\n",
            "Epoch 54/100\n",
            "237/237 [==============================] - 0s 123us/step - loss: 0.9751 - accuracy: 0.6160\n",
            "Epoch 55/100\n",
            "237/237 [==============================] - 0s 131us/step - loss: 0.9666 - accuracy: 0.6034\n",
            "Epoch 56/100\n",
            "237/237 [==============================] - 0s 132us/step - loss: 0.9711 - accuracy: 0.6034\n",
            "Epoch 57/100\n",
            "237/237 [==============================] - 0s 126us/step - loss: 0.9549 - accuracy: 0.6118\n",
            "Epoch 58/100\n",
            "237/237 [==============================] - 0s 132us/step - loss: 0.9683 - accuracy: 0.6118\n",
            "Epoch 59/100\n",
            "237/237 [==============================] - 0s 128us/step - loss: 0.9468 - accuracy: 0.6203\n",
            "Epoch 60/100\n",
            "237/237 [==============================] - 0s 123us/step - loss: 0.9531 - accuracy: 0.6456\n",
            "Epoch 61/100\n",
            "237/237 [==============================] - 0s 120us/step - loss: 0.9348 - accuracy: 0.6456\n",
            "Epoch 62/100\n",
            "237/237 [==============================] - 0s 128us/step - loss: 0.9514 - accuracy: 0.6287\n",
            "Epoch 63/100\n",
            "237/237 [==============================] - 0s 122us/step - loss: 0.9385 - accuracy: 0.6371\n",
            "Epoch 64/100\n",
            "237/237 [==============================] - 0s 128us/step - loss: 0.9357 - accuracy: 0.6498\n",
            "Epoch 65/100\n",
            "237/237 [==============================] - 0s 128us/step - loss: 0.9443 - accuracy: 0.6329\n",
            "Epoch 66/100\n",
            "237/237 [==============================] - 0s 120us/step - loss: 0.9319 - accuracy: 0.6582\n",
            "Epoch 67/100\n",
            "237/237 [==============================] - 0s 131us/step - loss: 0.9290 - accuracy: 0.6498\n",
            "Epoch 68/100\n",
            "237/237 [==============================] - 0s 156us/step - loss: 0.9293 - accuracy: 0.6371\n",
            "Epoch 69/100\n",
            "237/237 [==============================] - 0s 116us/step - loss: 0.9334 - accuracy: 0.6540\n",
            "Epoch 70/100\n",
            "237/237 [==============================] - 0s 118us/step - loss: 0.9239 - accuracy: 0.6540\n",
            "Epoch 71/100\n",
            "237/237 [==============================] - 0s 116us/step - loss: 0.9297 - accuracy: 0.6287\n",
            "Epoch 72/100\n",
            "237/237 [==============================] - 0s 134us/step - loss: 0.9305 - accuracy: 0.6582\n",
            "Epoch 73/100\n",
            "237/237 [==============================] - 0s 132us/step - loss: 0.9308 - accuracy: 0.6456\n",
            "Epoch 74/100\n",
            "237/237 [==============================] - 0s 113us/step - loss: 0.9320 - accuracy: 0.6287\n",
            "Epoch 75/100\n",
            "237/237 [==============================] - 0s 119us/step - loss: 0.9332 - accuracy: 0.6371\n",
            "Epoch 76/100\n",
            "237/237 [==============================] - 0s 123us/step - loss: 0.9107 - accuracy: 0.6582\n",
            "Epoch 77/100\n",
            "237/237 [==============================] - 0s 142us/step - loss: 0.9198 - accuracy: 0.6498\n",
            "Epoch 78/100\n",
            "237/237 [==============================] - 0s 110us/step - loss: 0.9404 - accuracy: 0.6329\n",
            "Epoch 79/100\n",
            "237/237 [==============================] - 0s 108us/step - loss: 0.9262 - accuracy: 0.6371\n",
            "Epoch 80/100\n",
            "237/237 [==============================] - 0s 121us/step - loss: 0.9285 - accuracy: 0.6329\n",
            "Epoch 81/100\n",
            "237/237 [==============================] - 0s 119us/step - loss: 0.9163 - accuracy: 0.6329\n",
            "Epoch 82/100\n",
            "237/237 [==============================] - 0s 111us/step - loss: 0.9198 - accuracy: 0.6329\n",
            "Epoch 83/100\n",
            "237/237 [==============================] - 0s 114us/step - loss: 0.9117 - accuracy: 0.6498\n",
            "Epoch 84/100\n",
            "237/237 [==============================] - 0s 109us/step - loss: 0.9048 - accuracy: 0.6582\n",
            "Epoch 85/100\n",
            "237/237 [==============================] - 0s 123us/step - loss: 0.9157 - accuracy: 0.6456\n",
            "Epoch 86/100\n",
            "237/237 [==============================] - 0s 124us/step - loss: 0.9118 - accuracy: 0.6582\n",
            "Epoch 87/100\n",
            "237/237 [==============================] - 0s 118us/step - loss: 0.9141 - accuracy: 0.6751\n",
            "Epoch 88/100\n",
            "237/237 [==============================] - 0s 121us/step - loss: 0.9078 - accuracy: 0.6456\n",
            "Epoch 89/100\n",
            "237/237 [==============================] - 0s 149us/step - loss: 0.9014 - accuracy: 0.6582\n",
            "Epoch 90/100\n",
            "237/237 [==============================] - 0s 130us/step - loss: 0.9050 - accuracy: 0.6414\n",
            "Epoch 91/100\n",
            "237/237 [==============================] - 0s 127us/step - loss: 0.8970 - accuracy: 0.6498\n",
            "Epoch 92/100\n",
            "237/237 [==============================] - 0s 121us/step - loss: 0.9069 - accuracy: 0.6624\n",
            "Epoch 93/100\n",
            "237/237 [==============================] - 0s 126us/step - loss: 0.9129 - accuracy: 0.6287\n",
            "Epoch 94/100\n",
            "237/237 [==============================] - 0s 124us/step - loss: 0.8897 - accuracy: 0.6498\n",
            "Epoch 95/100\n",
            "237/237 [==============================] - 0s 121us/step - loss: 0.9038 - accuracy: 0.6371\n",
            "Epoch 96/100\n",
            "237/237 [==============================] - 0s 125us/step - loss: 0.8937 - accuracy: 0.6498\n",
            "Epoch 97/100\n",
            "237/237 [==============================] - 0s 125us/step - loss: 0.9277 - accuracy: 0.6540\n",
            "Epoch 98/100\n",
            "237/237 [==============================] - 0s 111us/step - loss: 0.8884 - accuracy: 0.6329\n",
            "Epoch 99/100\n",
            "237/237 [==============================] - 0s 121us/step - loss: 0.9014 - accuracy: 0.6371\n",
            "Epoch 100/100\n",
            "237/237 [==============================] - 0s 118us/step - loss: 0.9023 - accuracy: 0.6329\n"
          ],
          "name": "stdout"
        },
        {
          "output_type": "execute_result",
          "data": {
            "text/plain": [
              "<keras.callbacks.callbacks.History at 0x7fe578aa39e8>"
            ]
          },
          "metadata": {
            "tags": []
          },
          "execution_count": 681
        }
      ]
    },
    {
      "cell_type": "markdown",
      "metadata": {
        "id": "_P6JGX5jhpMj",
        "colab_type": "text"
      },
      "source": [
        "To improve accuracy convert into binary classification problem - heart disease or no heart disease\n"
      ]
    },
    {
      "cell_type": "code",
      "metadata": {
        "id": "Ty4SHQ4KoTD4",
        "colab_type": "code",
        "outputId": "59637941-e3c6-42df-bf23-5c29c2121e0d",
        "colab": {
          "base_uri": "https://localhost:8080/",
          "height": 34
        }
      },
      "source": [
        "Y_train_binary = y_train.copy()\n",
        "Y_test_binary = y_test.copy()\n",
        "\n",
        "Y_train_binary[Y_train_binary > 0] = 1\n",
        "Y_test_binary[Y_test_binary > 0] = 1\n",
        "\n",
        "print (Y_train_binary[:20])"
      ],
      "execution_count": 682,
      "outputs": [
        {
          "output_type": "stream",
          "text": [
            "[0 0 0 1 0 0 0 0 0 0 0 0 1 1 0 0 1 0 1 0]\n"
          ],
          "name": "stdout"
        }
      ]
    },
    {
      "cell_type": "code",
      "metadata": {
        "id": "mAJTfxMEpGN-",
        "colab_type": "code",
        "outputId": "7d2080ad-fea0-4e03-ff2f-fc08418c6338",
        "colab": {
          "base_uri": "https://localhost:8080/",
          "height": 312
        }
      },
      "source": [
        "# define a new keras model for binary classification\n",
        "def create_binary_model():\n",
        "    # create model\n",
        "    model = Sequential()\n",
        "    model.add(Dense(16, input_dim=13, kernel_initializer='normal', activation='relu'))\n",
        "    model.add(Dense(8, kernel_initializer='normal', activation='relu'))\n",
        "    model.add(Dense(4, kernel_initializer='normal', activation='relu'))\n",
        "\n",
        "    model.add(Dense(1, activation='sigmoid'))\n",
        "    \n",
        "    # Compile model\n",
        "    adam = Adam(lr=0.001)\n",
        "    model.compile(loss='binary_crossentropy', optimizer=adam, metrics=['accuracy'])\n",
        "    return model\n",
        "\n",
        "binary_model = create_binary_model()\n",
        "\n",
        "print(binary_model.summary())"
      ],
      "execution_count": 683,
      "outputs": [
        {
          "output_type": "stream",
          "text": [
            "Model: \"sequential_14\"\n",
            "_________________________________________________________________\n",
            "Layer (type)                 Output Shape              Param #   \n",
            "=================================================================\n",
            "dense_46 (Dense)             (None, 16)                224       \n",
            "_________________________________________________________________\n",
            "dense_47 (Dense)             (None, 8)                 136       \n",
            "_________________________________________________________________\n",
            "dense_48 (Dense)             (None, 4)                 36        \n",
            "_________________________________________________________________\n",
            "dense_49 (Dense)             (None, 1)                 5         \n",
            "=================================================================\n",
            "Total params: 401\n",
            "Trainable params: 401\n",
            "Non-trainable params: 0\n",
            "_________________________________________________________________\n",
            "None\n"
          ],
          "name": "stdout"
        }
      ]
    },
    {
      "cell_type": "code",
      "metadata": {
        "id": "dlY2fBFUpIny",
        "colab_type": "code",
        "outputId": "a867d235-d507-4161-e02d-42e2292678ab",
        "colab": {
          "base_uri": "https://localhost:8080/",
          "height": 1000
        }
      },
      "source": [
        "\n",
        "# fit the binary model on the training data\n",
        "binary_model.fit(X_train, Y_train_binary, epochs=100, batch_size=10, verbose = 1)"
      ],
      "execution_count": 684,
      "outputs": [
        {
          "output_type": "stream",
          "text": [
            "Epoch 1/100\n",
            "237/237 [==============================] - 0s 582us/step - loss: 0.7049 - accuracy: 0.4430\n",
            "Epoch 2/100\n",
            "237/237 [==============================] - 0s 129us/step - loss: 0.6877 - accuracy: 0.5612\n",
            "Epoch 3/100\n",
            "237/237 [==============================] - 0s 139us/step - loss: 0.6841 - accuracy: 0.5612\n",
            "Epoch 4/100\n",
            "237/237 [==============================] - 0s 134us/step - loss: 0.6845 - accuracy: 0.5612\n",
            "Epoch 5/100\n",
            "237/237 [==============================] - 0s 128us/step - loss: 0.6804 - accuracy: 0.5612\n",
            "Epoch 6/100\n",
            "237/237 [==============================] - 0s 134us/step - loss: 0.6786 - accuracy: 0.5612\n",
            "Epoch 7/100\n",
            "237/237 [==============================] - 0s 127us/step - loss: 0.6751 - accuracy: 0.5612\n",
            "Epoch 8/100\n",
            "237/237 [==============================] - 0s 138us/step - loss: 0.6716 - accuracy: 0.5612\n",
            "Epoch 9/100\n",
            "237/237 [==============================] - 0s 147us/step - loss: 0.6660 - accuracy: 0.5612\n",
            "Epoch 10/100\n",
            "237/237 [==============================] - 0s 134us/step - loss: 0.6599 - accuracy: 0.5612\n",
            "Epoch 11/100\n",
            "237/237 [==============================] - 0s 137us/step - loss: 0.6459 - accuracy: 0.5612\n",
            "Epoch 12/100\n",
            "237/237 [==============================] - 0s 128us/step - loss: 0.6264 - accuracy: 0.6624\n",
            "Epoch 13/100\n",
            "237/237 [==============================] - 0s 129us/step - loss: 0.5965 - accuracy: 0.7173\n",
            "Epoch 14/100\n",
            "237/237 [==============================] - 0s 128us/step - loss: 0.5630 - accuracy: 0.7300\n",
            "Epoch 15/100\n",
            "237/237 [==============================] - 0s 135us/step - loss: 0.5102 - accuracy: 0.7679\n",
            "Epoch 16/100\n",
            "237/237 [==============================] - 0s 125us/step - loss: 0.4900 - accuracy: 0.7595\n",
            "Epoch 17/100\n",
            "237/237 [==============================] - 0s 143us/step - loss: 0.5017 - accuracy: 0.7426\n",
            "Epoch 18/100\n",
            "237/237 [==============================] - 0s 124us/step - loss: 0.4804 - accuracy: 0.7342\n",
            "Epoch 19/100\n",
            "237/237 [==============================] - 0s 125us/step - loss: 0.5159 - accuracy: 0.7679\n",
            "Epoch 20/100\n",
            "237/237 [==============================] - 0s 147us/step - loss: 0.4849 - accuracy: 0.7553\n",
            "Epoch 21/100\n",
            "237/237 [==============================] - 0s 134us/step - loss: 0.4774 - accuracy: 0.7806\n",
            "Epoch 22/100\n",
            "237/237 [==============================] - 0s 143us/step - loss: 0.4809 - accuracy: 0.7511\n",
            "Epoch 23/100\n",
            "237/237 [==============================] - 0s 130us/step - loss: 0.4527 - accuracy: 0.7932\n",
            "Epoch 24/100\n",
            "237/237 [==============================] - 0s 153us/step - loss: 0.4463 - accuracy: 0.7932\n",
            "Epoch 25/100\n",
            "237/237 [==============================] - 0s 128us/step - loss: 0.4712 - accuracy: 0.7637\n",
            "Epoch 26/100\n",
            "237/237 [==============================] - 0s 125us/step - loss: 0.4811 - accuracy: 0.7806\n",
            "Epoch 27/100\n",
            "237/237 [==============================] - 0s 142us/step - loss: 0.4362 - accuracy: 0.7806\n",
            "Epoch 28/100\n",
            "237/237 [==============================] - 0s 137us/step - loss: 0.4432 - accuracy: 0.7932\n",
            "Epoch 29/100\n",
            "237/237 [==============================] - 0s 137us/step - loss: 0.4580 - accuracy: 0.7806\n",
            "Epoch 30/100\n",
            "237/237 [==============================] - 0s 138us/step - loss: 0.4791 - accuracy: 0.7637\n",
            "Epoch 31/100\n",
            "237/237 [==============================] - 0s 133us/step - loss: 0.4625 - accuracy: 0.7975\n",
            "Epoch 32/100\n",
            "237/237 [==============================] - 0s 134us/step - loss: 0.4441 - accuracy: 0.7975\n",
            "Epoch 33/100\n",
            "237/237 [==============================] - 0s 127us/step - loss: 0.4224 - accuracy: 0.8143\n",
            "Epoch 34/100\n",
            "237/237 [==============================] - 0s 131us/step - loss: 0.4260 - accuracy: 0.8059\n",
            "Epoch 35/100\n",
            "237/237 [==============================] - 0s 132us/step - loss: 0.4348 - accuracy: 0.8101\n",
            "Epoch 36/100\n",
            "237/237 [==============================] - 0s 142us/step - loss: 0.4132 - accuracy: 0.8228\n",
            "Epoch 37/100\n",
            "237/237 [==============================] - 0s 145us/step - loss: 0.4295 - accuracy: 0.8143\n",
            "Epoch 38/100\n",
            "237/237 [==============================] - 0s 149us/step - loss: 0.4407 - accuracy: 0.7932\n",
            "Epoch 39/100\n",
            "237/237 [==============================] - 0s 135us/step - loss: 0.4612 - accuracy: 0.7806\n",
            "Epoch 40/100\n",
            "237/237 [==============================] - 0s 129us/step - loss: 0.4399 - accuracy: 0.8059\n",
            "Epoch 41/100\n",
            "237/237 [==============================] - 0s 131us/step - loss: 0.4437 - accuracy: 0.7890\n",
            "Epoch 42/100\n",
            "237/237 [==============================] - 0s 134us/step - loss: 0.4253 - accuracy: 0.8228\n",
            "Epoch 43/100\n",
            "237/237 [==============================] - 0s 146us/step - loss: 0.4447 - accuracy: 0.8143\n",
            "Epoch 44/100\n",
            "237/237 [==============================] - 0s 131us/step - loss: 0.4075 - accuracy: 0.8228\n",
            "Epoch 45/100\n",
            "237/237 [==============================] - 0s 141us/step - loss: 0.4204 - accuracy: 0.8186\n",
            "Epoch 46/100\n",
            "237/237 [==============================] - 0s 135us/step - loss: 0.4037 - accuracy: 0.8565\n",
            "Epoch 47/100\n",
            "237/237 [==============================] - 0s 134us/step - loss: 0.3911 - accuracy: 0.8523\n",
            "Epoch 48/100\n",
            "237/237 [==============================] - 0s 131us/step - loss: 0.3889 - accuracy: 0.8439\n",
            "Epoch 49/100\n",
            "237/237 [==============================] - 0s 132us/step - loss: 0.3900 - accuracy: 0.8565\n",
            "Epoch 50/100\n",
            "237/237 [==============================] - 0s 155us/step - loss: 0.3853 - accuracy: 0.8439\n",
            "Epoch 51/100\n",
            "237/237 [==============================] - 0s 164us/step - loss: 0.3908 - accuracy: 0.8481\n",
            "Epoch 52/100\n",
            "237/237 [==============================] - 0s 143us/step - loss: 0.3874 - accuracy: 0.8481\n",
            "Epoch 53/100\n",
            "237/237 [==============================] - 0s 133us/step - loss: 0.4073 - accuracy: 0.8481\n",
            "Epoch 54/100\n",
            "237/237 [==============================] - 0s 125us/step - loss: 0.4061 - accuracy: 0.8228\n",
            "Epoch 55/100\n",
            "237/237 [==============================] - 0s 133us/step - loss: 0.3971 - accuracy: 0.8523\n",
            "Epoch 56/100\n",
            "237/237 [==============================] - 0s 127us/step - loss: 0.3917 - accuracy: 0.8481\n",
            "Epoch 57/100\n",
            "237/237 [==============================] - 0s 127us/step - loss: 0.3838 - accuracy: 0.8481\n",
            "Epoch 58/100\n",
            "237/237 [==============================] - 0s 140us/step - loss: 0.3822 - accuracy: 0.8481\n",
            "Epoch 59/100\n",
            "237/237 [==============================] - 0s 131us/step - loss: 0.3904 - accuracy: 0.8481\n",
            "Epoch 60/100\n",
            "237/237 [==============================] - 0s 141us/step - loss: 0.3993 - accuracy: 0.8439\n",
            "Epoch 61/100\n",
            "237/237 [==============================] - 0s 159us/step - loss: 0.3926 - accuracy: 0.8565\n",
            "Epoch 62/100\n",
            "237/237 [==============================] - 0s 137us/step - loss: 0.4128 - accuracy: 0.8270\n",
            "Epoch 63/100\n",
            "237/237 [==============================] - 0s 150us/step - loss: 0.3894 - accuracy: 0.8481\n",
            "Epoch 64/100\n",
            "237/237 [==============================] - 0s 150us/step - loss: 0.3821 - accuracy: 0.8439\n",
            "Epoch 65/100\n",
            "237/237 [==============================] - 0s 149us/step - loss: 0.3741 - accuracy: 0.8523\n",
            "Epoch 66/100\n",
            "237/237 [==============================] - 0s 143us/step - loss: 0.4006 - accuracy: 0.8439\n",
            "Epoch 67/100\n",
            "237/237 [==============================] - 0s 136us/step - loss: 0.4123 - accuracy: 0.8143\n",
            "Epoch 68/100\n",
            "237/237 [==============================] - 0s 133us/step - loss: 0.3952 - accuracy: 0.8439\n",
            "Epoch 69/100\n",
            "237/237 [==============================] - 0s 129us/step - loss: 0.3875 - accuracy: 0.8481\n",
            "Epoch 70/100\n",
            "237/237 [==============================] - 0s 127us/step - loss: 0.3760 - accuracy: 0.8565\n",
            "Epoch 71/100\n",
            "237/237 [==============================] - 0s 151us/step - loss: 0.3799 - accuracy: 0.8354\n",
            "Epoch 72/100\n",
            "237/237 [==============================] - 0s 173us/step - loss: 0.3861 - accuracy: 0.8650\n",
            "Epoch 73/100\n",
            "237/237 [==============================] - 0s 157us/step - loss: 0.4027 - accuracy: 0.8397\n",
            "Epoch 74/100\n",
            "237/237 [==============================] - 0s 177us/step - loss: 0.3730 - accuracy: 0.8650\n",
            "Epoch 75/100\n",
            "237/237 [==============================] - 0s 172us/step - loss: 0.3714 - accuracy: 0.8565\n",
            "Epoch 76/100\n",
            "237/237 [==============================] - 0s 159us/step - loss: 0.3722 - accuracy: 0.8650\n",
            "Epoch 77/100\n",
            "237/237 [==============================] - 0s 157us/step - loss: 0.3716 - accuracy: 0.8650\n",
            "Epoch 78/100\n",
            "237/237 [==============================] - 0s 184us/step - loss: 0.3776 - accuracy: 0.8650\n",
            "Epoch 79/100\n",
            "237/237 [==============================] - 0s 176us/step - loss: 0.3684 - accuracy: 0.8523\n",
            "Epoch 80/100\n",
            "237/237 [==============================] - 0s 210us/step - loss: 0.3669 - accuracy: 0.8734\n",
            "Epoch 81/100\n",
            "237/237 [==============================] - 0s 154us/step - loss: 0.3864 - accuracy: 0.8608\n",
            "Epoch 82/100\n",
            "237/237 [==============================] - 0s 155us/step - loss: 0.3906 - accuracy: 0.8354\n",
            "Epoch 83/100\n",
            "237/237 [==============================] - 0s 159us/step - loss: 0.3727 - accuracy: 0.8481\n",
            "Epoch 84/100\n",
            "237/237 [==============================] - 0s 158us/step - loss: 0.3788 - accuracy: 0.8439\n",
            "Epoch 85/100\n",
            "237/237 [==============================] - 0s 153us/step - loss: 0.4022 - accuracy: 0.8312\n",
            "Epoch 86/100\n",
            "237/237 [==============================] - 0s 154us/step - loss: 0.3983 - accuracy: 0.8397\n",
            "Epoch 87/100\n",
            "237/237 [==============================] - 0s 142us/step - loss: 0.4229 - accuracy: 0.8101\n",
            "Epoch 88/100\n",
            "237/237 [==============================] - 0s 129us/step - loss: 0.3914 - accuracy: 0.8523\n",
            "Epoch 89/100\n",
            "237/237 [==============================] - 0s 128us/step - loss: 0.3777 - accuracy: 0.8565\n",
            "Epoch 90/100\n",
            "237/237 [==============================] - 0s 141us/step - loss: 0.3750 - accuracy: 0.8397\n",
            "Epoch 91/100\n",
            "237/237 [==============================] - 0s 134us/step - loss: 0.3849 - accuracy: 0.8397\n",
            "Epoch 92/100\n",
            "237/237 [==============================] - 0s 127us/step - loss: 0.3908 - accuracy: 0.8397\n",
            "Epoch 93/100\n",
            "237/237 [==============================] - 0s 137us/step - loss: 0.3739 - accuracy: 0.8608\n",
            "Epoch 94/100\n",
            "237/237 [==============================] - 0s 132us/step - loss: 0.3651 - accuracy: 0.8523\n",
            "Epoch 95/100\n",
            "237/237 [==============================] - 0s 128us/step - loss: 0.3673 - accuracy: 0.8523\n",
            "Epoch 96/100\n",
            "237/237 [==============================] - 0s 136us/step - loss: 0.3916 - accuracy: 0.8523\n",
            "Epoch 97/100\n",
            "237/237 [==============================] - 0s 130us/step - loss: 0.3722 - accuracy: 0.8608\n",
            "Epoch 98/100\n",
            "237/237 [==============================] - 0s 148us/step - loss: 0.3658 - accuracy: 0.8565\n",
            "Epoch 99/100\n",
            "237/237 [==============================] - 0s 153us/step - loss: 0.3624 - accuracy: 0.8650\n",
            "Epoch 100/100\n",
            "237/237 [==============================] - 0s 125us/step - loss: 0.3880 - accuracy: 0.8565\n"
          ],
          "name": "stdout"
        },
        {
          "output_type": "execute_result",
          "data": {
            "text/plain": [
              "<keras.callbacks.callbacks.History at 0x7fe578905630>"
            ]
          },
          "metadata": {
            "tags": []
          },
          "execution_count": 684
        }
      ]
    },
    {
      "cell_type": "code",
      "metadata": {
        "id": "QYIrWgyRpL1-",
        "colab_type": "code",
        "outputId": "132fe2b1-deec-42ab-a1f9-388355523957",
        "colab": {
          "base_uri": "https://localhost:8080/",
          "height": 315
        }
      },
      "source": [
        "from sklearn.metrics import classification_report, accuracy_score\n",
        "\n",
        "categorical_pred = np.argmax(model.predict(X_test), axis=1)\n",
        "\n",
        "print('Results for Categorical Model')\n",
        "print(accuracy_score(y_test, categorical_pred))\n",
        "print(classification_report(y_test, categorical_pred))"
      ],
      "execution_count": 685,
      "outputs": [
        {
          "output_type": "stream",
          "text": [
            "Results for Categorical Model\n",
            "0.55\n",
            "              precision    recall  f1-score   support\n",
            "\n",
            "           0       0.66      1.00      0.79        27\n",
            "           1       1.00      0.13      0.24        15\n",
            "           2       0.00      0.00      0.00         8\n",
            "           3       0.24      0.80      0.36         5\n",
            "           4       0.00      0.00      0.00         5\n",
            "\n",
            "    accuracy                           0.55        60\n",
            "   macro avg       0.38      0.39      0.28        60\n",
            "weighted avg       0.57      0.55      0.45        60\n",
            "\n"
          ],
          "name": "stdout"
        },
        {
          "output_type": "stream",
          "text": [
            "/usr/local/lib/python3.6/dist-packages/sklearn/metrics/_classification.py:1272: UndefinedMetricWarning: Precision and F-score are ill-defined and being set to 0.0 in labels with no predicted samples. Use `zero_division` parameter to control this behavior.\n",
            "  _warn_prf(average, modifier, msg_start, len(result))\n"
          ],
          "name": "stderr"
        }
      ]
    },
    {
      "cell_type": "code",
      "metadata": {
        "id": "Wl-IBKlmC7NB",
        "colab_type": "code",
        "colab": {}
      },
      "source": [
        "\n"
      ],
      "execution_count": 0,
      "outputs": []
    },
    {
      "cell_type": "code",
      "metadata": {
        "id": "XcKvW-jypiLe",
        "colab_type": "code",
        "outputId": "09ce8a32-d0cb-4d7c-8de8-44dd7f1a0689",
        "colab": {
          "base_uri": "https://localhost:8080/",
          "height": 208
        }
      },
      "source": [
        "\n",
        "# generate classification report using predictions for binary model \n",
        "binary_pred = np.round(binary_model.predict(X_test)).astype(int)\n",
        "\n",
        "print('Results for Binary Model')\n",
        "print(accuracy_score(Y_test_binary, binary_pred))\n",
        "print(classification_report(Y_test_binary, binary_pred))"
      ],
      "execution_count": 686,
      "outputs": [
        {
          "output_type": "stream",
          "text": [
            "Results for Binary Model\n",
            "0.8166666666666667\n",
            "              precision    recall  f1-score   support\n",
            "\n",
            "           0       0.72      0.96      0.83        27\n",
            "           1       0.96      0.70      0.81        33\n",
            "\n",
            "    accuracy                           0.82        60\n",
            "   macro avg       0.84      0.83      0.82        60\n",
            "weighted avg       0.85      0.82      0.82        60\n",
            "\n"
          ],
          "name": "stdout"
        }
      ]
    },
    {
      "cell_type": "code",
      "metadata": {
        "id": "tSQCeDgeD3sV",
        "colab_type": "code",
        "colab": {}
      },
      "source": [
        ""
      ],
      "execution_count": 0,
      "outputs": []
    },
    {
      "cell_type": "markdown",
      "metadata": {
        "id": "tS3yjtGDZpP7",
        "colab_type": "text"
      },
      "source": [
        "## KNN Algorithm"
      ]
    },
    {
      "cell_type": "code",
      "metadata": {
        "id": "lYqu36rknitk",
        "colab_type": "code",
        "colab": {}
      },
      "source": [
        "\n",
        "url = \"http://archive.ics.uci.edu/ml/machine-learning-databases/heart-disease/processed.cleveland.data\"\n",
        "\n",
        "# the names will be the names of each column in our pandas DataFrame\n",
        "names = ['age',\n",
        "        'sex',\n",
        "        'cp',\n",
        "        'trestbps',\n",
        "        'chol',\n",
        "        'fbs',\n",
        "        'restecg',\n",
        "        'thalach',\n",
        "        'exang',\n",
        "        'oldpeak',\n",
        "        'slope',\n",
        "        'ca',\n",
        "        'thal',\n",
        "        'class']\n",
        "\n",
        "# read the csv\n",
        "datset = pd.read_csv(url, names=names)"
      ],
      "execution_count": 0,
      "outputs": []
    },
    {
      "cell_type": "code",
      "metadata": {
        "id": "7IvpdopXsPsH",
        "colab_type": "code",
        "outputId": "20df1839-cfd8-497f-dfac-9fcbdefc1647",
        "colab": {
          "base_uri": "https://localhost:8080/",
          "height": 424
        }
      },
      "source": [
        "datset"
      ],
      "execution_count": 688,
      "outputs": [
        {
          "output_type": "execute_result",
          "data": {
            "text/html": [
              "<div>\n",
              "<style scoped>\n",
              "    .dataframe tbody tr th:only-of-type {\n",
              "        vertical-align: middle;\n",
              "    }\n",
              "\n",
              "    .dataframe tbody tr th {\n",
              "        vertical-align: top;\n",
              "    }\n",
              "\n",
              "    .dataframe thead th {\n",
              "        text-align: right;\n",
              "    }\n",
              "</style>\n",
              "<table border=\"1\" class=\"dataframe\">\n",
              "  <thead>\n",
              "    <tr style=\"text-align: right;\">\n",
              "      <th></th>\n",
              "      <th>age</th>\n",
              "      <th>sex</th>\n",
              "      <th>cp</th>\n",
              "      <th>trestbps</th>\n",
              "      <th>chol</th>\n",
              "      <th>fbs</th>\n",
              "      <th>restecg</th>\n",
              "      <th>thalach</th>\n",
              "      <th>exang</th>\n",
              "      <th>oldpeak</th>\n",
              "      <th>slope</th>\n",
              "      <th>ca</th>\n",
              "      <th>thal</th>\n",
              "      <th>class</th>\n",
              "    </tr>\n",
              "  </thead>\n",
              "  <tbody>\n",
              "    <tr>\n",
              "      <th>0</th>\n",
              "      <td>63.0</td>\n",
              "      <td>1.0</td>\n",
              "      <td>1.0</td>\n",
              "      <td>145.0</td>\n",
              "      <td>233.0</td>\n",
              "      <td>1.0</td>\n",
              "      <td>2.0</td>\n",
              "      <td>150.0</td>\n",
              "      <td>0.0</td>\n",
              "      <td>2.3</td>\n",
              "      <td>3.0</td>\n",
              "      <td>0.0</td>\n",
              "      <td>6.0</td>\n",
              "      <td>0</td>\n",
              "    </tr>\n",
              "    <tr>\n",
              "      <th>1</th>\n",
              "      <td>67.0</td>\n",
              "      <td>1.0</td>\n",
              "      <td>4.0</td>\n",
              "      <td>160.0</td>\n",
              "      <td>286.0</td>\n",
              "      <td>0.0</td>\n",
              "      <td>2.0</td>\n",
              "      <td>108.0</td>\n",
              "      <td>1.0</td>\n",
              "      <td>1.5</td>\n",
              "      <td>2.0</td>\n",
              "      <td>3.0</td>\n",
              "      <td>3.0</td>\n",
              "      <td>2</td>\n",
              "    </tr>\n",
              "    <tr>\n",
              "      <th>2</th>\n",
              "      <td>67.0</td>\n",
              "      <td>1.0</td>\n",
              "      <td>4.0</td>\n",
              "      <td>120.0</td>\n",
              "      <td>229.0</td>\n",
              "      <td>0.0</td>\n",
              "      <td>2.0</td>\n",
              "      <td>129.0</td>\n",
              "      <td>1.0</td>\n",
              "      <td>2.6</td>\n",
              "      <td>2.0</td>\n",
              "      <td>2.0</td>\n",
              "      <td>7.0</td>\n",
              "      <td>1</td>\n",
              "    </tr>\n",
              "    <tr>\n",
              "      <th>3</th>\n",
              "      <td>37.0</td>\n",
              "      <td>1.0</td>\n",
              "      <td>3.0</td>\n",
              "      <td>130.0</td>\n",
              "      <td>250.0</td>\n",
              "      <td>0.0</td>\n",
              "      <td>0.0</td>\n",
              "      <td>187.0</td>\n",
              "      <td>0.0</td>\n",
              "      <td>3.5</td>\n",
              "      <td>3.0</td>\n",
              "      <td>0.0</td>\n",
              "      <td>3.0</td>\n",
              "      <td>0</td>\n",
              "    </tr>\n",
              "    <tr>\n",
              "      <th>4</th>\n",
              "      <td>41.0</td>\n",
              "      <td>0.0</td>\n",
              "      <td>2.0</td>\n",
              "      <td>130.0</td>\n",
              "      <td>204.0</td>\n",
              "      <td>0.0</td>\n",
              "      <td>2.0</td>\n",
              "      <td>172.0</td>\n",
              "      <td>0.0</td>\n",
              "      <td>1.4</td>\n",
              "      <td>1.0</td>\n",
              "      <td>0.0</td>\n",
              "      <td>3.0</td>\n",
              "      <td>0</td>\n",
              "    </tr>\n",
              "    <tr>\n",
              "      <th>...</th>\n",
              "      <td>...</td>\n",
              "      <td>...</td>\n",
              "      <td>...</td>\n",
              "      <td>...</td>\n",
              "      <td>...</td>\n",
              "      <td>...</td>\n",
              "      <td>...</td>\n",
              "      <td>...</td>\n",
              "      <td>...</td>\n",
              "      <td>...</td>\n",
              "      <td>...</td>\n",
              "      <td>...</td>\n",
              "      <td>...</td>\n",
              "      <td>...</td>\n",
              "    </tr>\n",
              "    <tr>\n",
              "      <th>298</th>\n",
              "      <td>45.0</td>\n",
              "      <td>1.0</td>\n",
              "      <td>1.0</td>\n",
              "      <td>110.0</td>\n",
              "      <td>264.0</td>\n",
              "      <td>0.0</td>\n",
              "      <td>0.0</td>\n",
              "      <td>132.0</td>\n",
              "      <td>0.0</td>\n",
              "      <td>1.2</td>\n",
              "      <td>2.0</td>\n",
              "      <td>0.0</td>\n",
              "      <td>7.0</td>\n",
              "      <td>1</td>\n",
              "    </tr>\n",
              "    <tr>\n",
              "      <th>299</th>\n",
              "      <td>68.0</td>\n",
              "      <td>1.0</td>\n",
              "      <td>4.0</td>\n",
              "      <td>144.0</td>\n",
              "      <td>193.0</td>\n",
              "      <td>1.0</td>\n",
              "      <td>0.0</td>\n",
              "      <td>141.0</td>\n",
              "      <td>0.0</td>\n",
              "      <td>3.4</td>\n",
              "      <td>2.0</td>\n",
              "      <td>2.0</td>\n",
              "      <td>7.0</td>\n",
              "      <td>2</td>\n",
              "    </tr>\n",
              "    <tr>\n",
              "      <th>300</th>\n",
              "      <td>57.0</td>\n",
              "      <td>1.0</td>\n",
              "      <td>4.0</td>\n",
              "      <td>130.0</td>\n",
              "      <td>131.0</td>\n",
              "      <td>0.0</td>\n",
              "      <td>0.0</td>\n",
              "      <td>115.0</td>\n",
              "      <td>1.0</td>\n",
              "      <td>1.2</td>\n",
              "      <td>2.0</td>\n",
              "      <td>1.0</td>\n",
              "      <td>7.0</td>\n",
              "      <td>3</td>\n",
              "    </tr>\n",
              "    <tr>\n",
              "      <th>301</th>\n",
              "      <td>57.0</td>\n",
              "      <td>0.0</td>\n",
              "      <td>2.0</td>\n",
              "      <td>130.0</td>\n",
              "      <td>236.0</td>\n",
              "      <td>0.0</td>\n",
              "      <td>2.0</td>\n",
              "      <td>174.0</td>\n",
              "      <td>0.0</td>\n",
              "      <td>0.0</td>\n",
              "      <td>2.0</td>\n",
              "      <td>1.0</td>\n",
              "      <td>3.0</td>\n",
              "      <td>1</td>\n",
              "    </tr>\n",
              "    <tr>\n",
              "      <th>302</th>\n",
              "      <td>38.0</td>\n",
              "      <td>1.0</td>\n",
              "      <td>3.0</td>\n",
              "      <td>138.0</td>\n",
              "      <td>175.0</td>\n",
              "      <td>0.0</td>\n",
              "      <td>0.0</td>\n",
              "      <td>173.0</td>\n",
              "      <td>0.0</td>\n",
              "      <td>0.0</td>\n",
              "      <td>1.0</td>\n",
              "      <td>?</td>\n",
              "      <td>3.0</td>\n",
              "      <td>0</td>\n",
              "    </tr>\n",
              "  </tbody>\n",
              "</table>\n",
              "<p>303 rows × 14 columns</p>\n",
              "</div>"
            ],
            "text/plain": [
              "      age  sex   cp  trestbps   chol  ...  oldpeak  slope   ca  thal  class\n",
              "0    63.0  1.0  1.0     145.0  233.0  ...      2.3    3.0  0.0   6.0      0\n",
              "1    67.0  1.0  4.0     160.0  286.0  ...      1.5    2.0  3.0   3.0      2\n",
              "2    67.0  1.0  4.0     120.0  229.0  ...      2.6    2.0  2.0   7.0      1\n",
              "3    37.0  1.0  3.0     130.0  250.0  ...      3.5    3.0  0.0   3.0      0\n",
              "4    41.0  0.0  2.0     130.0  204.0  ...      1.4    1.0  0.0   3.0      0\n",
              "..    ...  ...  ...       ...    ...  ...      ...    ...  ...   ...    ...\n",
              "298  45.0  1.0  1.0     110.0  264.0  ...      1.2    2.0  0.0   7.0      1\n",
              "299  68.0  1.0  4.0     144.0  193.0  ...      3.4    2.0  2.0   7.0      2\n",
              "300  57.0  1.0  4.0     130.0  131.0  ...      1.2    2.0  1.0   7.0      3\n",
              "301  57.0  0.0  2.0     130.0  236.0  ...      0.0    2.0  1.0   3.0      1\n",
              "302  38.0  1.0  3.0     138.0  175.0  ...      0.0    1.0    ?   3.0      0\n",
              "\n",
              "[303 rows x 14 columns]"
            ]
          },
          "metadata": {
            "tags": []
          },
          "execution_count": 688
        }
      ]
    },
    {
      "cell_type": "code",
      "metadata": {
        "id": "60dz2BxXsZiP",
        "colab_type": "code",
        "colab": {}
      },
      "source": [
        "# remove null values as less values\n",
        "data = cleveland[~cleveland.isin(['?'])]    \n",
        "#dropping row\n",
        "data = data.dropna(axis=0) \n"
      ],
      "execution_count": 0,
      "outputs": []
    },
    {
      "cell_type": "code",
      "metadata": {
        "id": "nqlGhYlhskRN",
        "colab_type": "code",
        "outputId": "38e62bf8-f7f4-4bff-fbc5-ac79295b89cb",
        "colab": {
          "base_uri": "https://localhost:8080/",
          "height": 295
        }
      },
      "source": [
        "print (data.shape)\n",
        "print (data.dtypes)"
      ],
      "execution_count": 690,
      "outputs": [
        {
          "output_type": "stream",
          "text": [
            "(297, 14)\n",
            "age         float64\n",
            "sex         float64\n",
            "cp          float64\n",
            "trestbps    float64\n",
            "chol        float64\n",
            "fbs         float64\n",
            "restecg     float64\n",
            "thalach     float64\n",
            "exang       float64\n",
            "oldpeak     float64\n",
            "slope       float64\n",
            "ca           object\n",
            "thal         object\n",
            "class         int64\n",
            "dtype: object\n"
          ],
          "name": "stdout"
        }
      ]
    },
    {
      "cell_type": "code",
      "metadata": {
        "id": "jyGTisUrvdgr",
        "colab_type": "code",
        "colab": {}
      },
      "source": [
        "data = data.apply(pd.to_numeric)\n",
        "data.dtypes\n",
        "# print (data.shape)\n",
        "# print (data.dtypes)\n",
        "# print(data)\n",
        "colnames_numeric = data.columns[0:14]\n",
        "\n",
        "from sklearn.preprocessing import MinMaxScaler\n",
        "scaler = MinMaxScaler()\n",
        "data[colnames_numeric] = scaler.fit_transform(data[colnames_numeric])\n",
        "X = np.array(data)\n",
        "y = np.array(data['class'])\n",
        "\n",
        "#print(X)\n",
        "# y"
      ],
      "execution_count": 0,
      "outputs": []
    },
    {
      "cell_type": "code",
      "metadata": {
        "id": "B2WdEqFQvoDs",
        "colab_type": "code",
        "colab": {}
      },
      "source": [
        "y[y>0]=1\n"
      ],
      "execution_count": 0,
      "outputs": []
    },
    {
      "cell_type": "code",
      "metadata": {
        "id": "da412gAg3jV_",
        "colab_type": "code",
        "colab": {}
      },
      "source": [
        "data['class']=y\n",
        "#data1 = data\n"
      ],
      "execution_count": 0,
      "outputs": []
    },
    {
      "cell_type": "code",
      "metadata": {
        "id": "eqhErAko4Fmo",
        "colab_type": "code",
        "colab": {}
      },
      "source": [
        "\n",
        "df = data.values.tolist()\n"
      ],
      "execution_count": 0,
      "outputs": []
    },
    {
      "cell_type": "code",
      "metadata": {
        "id": "TWqK6RcrDvkR",
        "colab_type": "code",
        "colab": {}
      },
      "source": [
        "\n",
        "#Breaking the data into training and test set\n",
        "import random\n",
        "def train_test_split(data, split, trainingSet = [], testSet = []):\n",
        "    for x in range(len(data)):\n",
        "        if random.random() < split:\n",
        "            trainingSet.append(data[x])\n",
        "        else:\n",
        "            testSet.append(data[x])"
      ],
      "execution_count": 0,
      "outputs": []
    },
    {
      "cell_type": "code",
      "metadata": {
        "id": "T12J6EimD10I",
        "colab_type": "code",
        "colab": {}
      },
      "source": [
        "\n",
        "trainingSet = []\n",
        "testSet = []\n",
        "split = 0.8\n",
        "train_test_split(df, split, trainingSet, testSet)"
      ],
      "execution_count": 0,
      "outputs": []
    },
    {
      "cell_type": "code",
      "metadata": {
        "id": "gDCAg6lPD6Sb",
        "colab_type": "code",
        "outputId": "6905b108-68c0-42ac-f46a-91c4a0d9f35f",
        "colab": {
          "base_uri": "https://localhost:8080/",
          "height": 34
        }
      },
      "source": [
        "len(trainingSet)\n"
      ],
      "execution_count": 697,
      "outputs": [
        {
          "output_type": "execute_result",
          "data": {
            "text/plain": [
              "229"
            ]
          },
          "metadata": {
            "tags": []
          },
          "execution_count": 697
        }
      ]
    },
    {
      "cell_type": "code",
      "metadata": {
        "id": "-e5m9d7DD86m",
        "colab_type": "code",
        "outputId": "74b8593e-d738-44e6-b335-bf8428f852eb",
        "colab": {
          "base_uri": "https://localhost:8080/",
          "height": 34
        }
      },
      "source": [
        "len(testSet)\n",
        "\n"
      ],
      "execution_count": 698,
      "outputs": [
        {
          "output_type": "execute_result",
          "data": {
            "text/plain": [
              "68"
            ]
          },
          "metadata": {
            "tags": []
          },
          "execution_count": 698
        }
      ]
    },
    {
      "cell_type": "code",
      "metadata": {
        "id": "eJujdikbECA7",
        "colab_type": "code",
        "colab": {}
      },
      "source": [
        "#Define Euclidean distances\n",
        "import math\n",
        "def Euclideandist(x,xi, length):\n",
        "    d = 0.0\n",
        "    for i in range(length):\n",
        "        d += pow(float(x[i])- float(xi[i]),2)\n",
        "    return math.sqrt(d)"
      ],
      "execution_count": 0,
      "outputs": []
    },
    {
      "cell_type": "code",
      "metadata": {
        "id": "0hmlGvbxEJiT",
        "colab_type": "code",
        "colab": {}
      },
      "source": [
        "\n",
        "#Getting the K neighbours having the closest Euclidean distance to the test instance\n",
        "import operator\n",
        "def getNeighbors(trainingSet, testInstance, k):\n",
        "    distances = []\n",
        "    length = len(testInstance)-1\n",
        "    for x in range(len(trainingSet)):\n",
        "        dist = Euclideandist(testInstance, trainingSet[x], length)\n",
        "        distances.append((trainingSet[x], dist))\n",
        "    distances.sort(key=operator.itemgetter(1))\n",
        "    neighbors = []\n",
        "    for x in range(k):\n",
        "        neighbors.append(distances[x][0])\n",
        "    return neighbors"
      ],
      "execution_count": 0,
      "outputs": []
    },
    {
      "cell_type": "code",
      "metadata": {
        "id": "k432BYQgEMBO",
        "colab_type": "code",
        "colab": {}
      },
      "source": [
        "\n",
        "#After sorting the neighbours based on their respective classes, max voting to give the final class of the test instance\n",
        "import operator\n",
        "def getResponse(neighbors):\n",
        "\tclassVotes = {}\n",
        "\tfor x in range(len(neighbors)):\n",
        "\t\tresponse = neighbors[x][-1]\n",
        "\t\tif response in classVotes:\n",
        "\t\t\tclassVotes[response] += 1\n",
        "\t\telse:\n",
        "\t\t\tclassVotes[response] = 1\n",
        "\tsortedVotes = sorted(classVotes.items(), key=operator.itemgetter(1), reverse=True)#Sorting it based on votes\n",
        "\treturn sortedVotes[0][0] #Please note we need the class for the top voted class, hence [0][0]#"
      ],
      "execution_count": 0,
      "outputs": []
    },
    {
      "cell_type": "code",
      "metadata": {
        "id": "rgs6bLvtEOvI",
        "colab_type": "code",
        "colab": {}
      },
      "source": [
        "\n",
        "#Getting the accuracy\n",
        "def getAccuracy(testSet, predictions):\n",
        "\tcorrect = 0\n",
        "\tfor x in range(len(testSet)):\n",
        "\t\tif testSet[x][-1] == predictions[x]:\n",
        "\t\t\tcorrect += 1\n",
        "\treturn (correct/(len(testSet))) * 100.0"
      ],
      "execution_count": 0,
      "outputs": []
    },
    {
      "cell_type": "code",
      "metadata": {
        "id": "z62pRUw0EQ-i",
        "colab_type": "code",
        "colab": {}
      },
      "source": [
        "# generate predictions\n",
        "from sklearn.metrics import confusion_matrix \n",
        "from sklearn.metrics import accuracy_score \n",
        "from sklearn.metrics import classification_report\n",
        "predictions=[]\n",
        "actual = []\n",
        "k = 3\n",
        "for x in range(len(testSet)):\n",
        "    neighbors = getNeighbors(trainingSet, testSet[x], k)\n",
        "    result = getResponse(neighbors)\n",
        "    predictions.append(result)\n",
        "    actual.append(testSet[x][-1])\n",
        "    #print('> predicted=' + repr(result) + ', actual=' + repr(testSet[x][-1]))\n",
        "#print (predictions)\n",
        "#print(actual)\n",
        "results = confusion_matrix(actual, predictions) \n",
        "  \n"
      ],
      "execution_count": 0,
      "outputs": []
    },
    {
      "cell_type": "code",
      "metadata": {
        "id": "fEV7C0K08axX",
        "colab_type": "code",
        "outputId": "328a3c75-1099-4392-ec73-638701df864e",
        "colab": {
          "base_uri": "https://localhost:8080/",
          "height": 278
        }
      },
      "source": [
        "print ('Confusion Matrix :')\n",
        "print(results) \n",
        "print ('Accuracy Score :',accuracy_score(actual, predictions)) \n",
        "print ('Report : ')\n",
        "print (classification_report(actual, predictions)) \n",
        "accuracy = getAccuracy(testSet, predictions)\n",
        "print('Accuracy: ' + repr(accuracy) + '%')"
      ],
      "execution_count": 704,
      "outputs": [
        {
          "output_type": "stream",
          "text": [
            "Confusion Matrix :\n",
            "[[28  8]\n",
            " [ 7 25]]\n",
            "Accuracy Score : 0.7794117647058824\n",
            "Report : \n",
            "              precision    recall  f1-score   support\n",
            "\n",
            "         0.0       0.80      0.78      0.79        36\n",
            "         1.0       0.76      0.78      0.77        32\n",
            "\n",
            "    accuracy                           0.78        68\n",
            "   macro avg       0.78      0.78      0.78        68\n",
            "weighted avg       0.78      0.78      0.78        68\n",
            "\n",
            "Accuracy: 77.94117647058823%\n"
          ],
          "name": "stdout"
        }
      ]
    },
    {
      "cell_type": "code",
      "metadata": {
        "id": "Uuz-uatyEUV7",
        "colab_type": "code",
        "outputId": "dcc3c8b9-7a75-4c1e-8f9c-d9bc807e17a6",
        "colab": {
          "base_uri": "https://localhost:8080/",
          "height": 312
        }
      },
      "source": [
        "from sklearn.model_selection import cross_val_score\n",
        "from sklearn.metrics import make_scorer, confusion_matrix, classification_report\n",
        "import seaborn as sns\n",
        "\n",
        "\n",
        "\n",
        "nnbc_cm = confusion_matrix(actual,predictions)\n",
        "\n",
        "ax = sns.heatmap(nnbc_cm,annot=True,cmap='coolwarm',fmt='.0f')\n",
        "ax.set_title('KNN Confusion Matrix')\n",
        "ax.set_ylabel('True Label')\n",
        "ax.set_xlabel('Predicted Label')"
      ],
      "execution_count": 705,
      "outputs": [
        {
          "output_type": "execute_result",
          "data": {
            "text/plain": [
              "Text(0.5, 15.0, 'Predicted Label')"
            ]
          },
          "metadata": {
            "tags": []
          },
          "execution_count": 705
        },
        {
          "output_type": "display_data",
          "data": {
            "image/png": "[encoded data removed]",
            "text/plain": [
              "<Figure size 432x288 with 2 Axes>"
            ]
          },
          "metadata": {
            "tags": [],
            "needs_background": "light"
          }
        }
      ]
    },
    {
      "cell_type": "code",
      "metadata": {
        "id": "wUxhZkLYRnPj",
        "colab_type": "code",
        "colab": {}
      },
      "source": [
        ""
      ],
      "execution_count": 0,
      "outputs": []
    },
    {
      "cell_type": "markdown",
      "metadata": {
        "id": "eNZphue0NT9D",
        "colab_type": "text"
      },
      "source": [
        "# LOGISTIC REGRESSION"
      ]
    },
    {
      "cell_type": "code",
      "metadata": {
        "id": "1z0Ho4URSjgn",
        "colab_type": "code",
        "colab": {}
      },
      "source": [
        "class LogisticRegression:  \n",
        "    def __init__(self, lr=0.01, num_iter=100000, fit_intercept=True, verbose=False):  \n",
        "        self.lr = lr  \n",
        "        self.num_iter = num_iter  \n",
        "        self.fit_intercept = fit_intercept  \n",
        "        self.verbose = verbose  \n",
        "     \n",
        "    def __add_intercept(self, X):  \n",
        "        intercept = np.ones((X.shape[0], 1))  \n",
        "        return np.concatenate((intercept, X), axis=1)  \n",
        "     \n",
        "    def __sigmoid(self, z):  \n",
        "        return 1 / (1 + np.exp(-z))  \n",
        "    def __loss(self, h, y):  \n",
        "        return (-y * np.log(h) - (1 - y) * np.log(1 - h)).mean()  \n",
        "     \n",
        "    def fit(self, X, y):  \n",
        "        if self.fit_intercept:  \n",
        "            X = self.__add_intercept(X)  \n",
        "         \n",
        "        # weights initialization  \n",
        "        self.theta = np.zeros(X.shape[1])  \n",
        "         \n",
        "        for i in range(self.num_iter):  \n",
        "            z = np.dot(X, self.theta)  \n",
        "            h = self.__sigmoid(z)  \n",
        "            gradient = np.dot(X.T, (h - y)) / y.size  \n",
        "            self.theta -= self.lr * gradient  \n",
        "             \n",
        "            z = np.dot(X, self.theta)  \n",
        "            h = self.__sigmoid(z)  \n",
        "            loss = self.__loss(h, y)  \n",
        "                 \n",
        "            if(self.verbose ==True and i % 10000 == 0):  \n",
        "                print(f'loss: {loss} \\t')  \n",
        "     \n",
        "    def predict_prob(self, X):  \n",
        "        if self.fit_intercept:  \n",
        "            X = self.__add_intercept(X)  \n",
        "     \n",
        "        return self.__sigmoid(np.dot(X, self.theta))  \n",
        "     \n",
        "    def predict(self, X):  \n",
        "        return self.predict_prob(X).round()\n"
      ],
      "execution_count": 0,
      "outputs": []
    },
    {
      "cell_type": "code",
      "metadata": {
        "id": "nZspd6bzTMDa",
        "colab_type": "code",
        "colab": {}
      },
      "source": [
        "df= pd.read_csv(url, names=names)"
      ],
      "execution_count": 0,
      "outputs": []
    },
    {
      "cell_type": "code",
      "metadata": {
        "id": "CAClskrmTOyW",
        "colab_type": "code",
        "colab": {}
      },
      "source": [
        "# print(df)"
      ],
      "execution_count": 0,
      "outputs": []
    },
    {
      "cell_type": "code",
      "metadata": {
        "colab_type": "code",
        "id": "NI-APvrzVJDM",
        "colab": {}
      },
      "source": [
        "# remove null values as less values\n",
        "df = df[~df.isin(['?'])]    \n",
        "#dropping row\n",
        "df = df.dropna(axis=0) \n"
      ],
      "execution_count": 0,
      "outputs": []
    },
    {
      "cell_type": "code",
      "metadata": {
        "id": "T_qOj3AANbNH",
        "colab_type": "code",
        "colab": {}
      },
      "source": [
        "a = pd.get_dummies(df['cp'], prefix = \"cp\")\n",
        "b = pd.get_dummies(df['thal'], prefix = \"thal\")\n",
        "c = pd.get_dummies(df['slope'], prefix = \"slope\")\n",
        "d= pd.get_dummies(df['ca'], prefix = \"ca\")\n",
        "frames = [df, a, b, c,d]\n",
        "df = pd.concat(frames, axis = 1)\n",
        "df = df.drop(columns = ['cp', 'thal', 'slope', 'ca'])"
      ],
      "execution_count": 0,
      "outputs": []
    },
    {
      "cell_type": "code",
      "metadata": {
        "id": "QDRTz3OZQSTX",
        "colab_type": "code",
        "colab": {}
      },
      "source": [
        "#15613"
      ],
      "execution_count": 0,
      "outputs": []
    },
    {
      "cell_type": "code",
      "metadata": {
        "id": "o-7k2_9tTElI",
        "colab_type": "code",
        "outputId": "a5f47176-25b3-4cbb-bc48-3b9a5e63a373",
        "colab": {
          "base_uri": "https://localhost:8080/",
          "height": 34
        }
      },
      "source": [
        "df.shape"
      ],
      "execution_count": 712,
      "outputs": [
        {
          "output_type": "execute_result",
          "data": {
            "text/plain": [
              "(297, 24)"
            ]
          },
          "metadata": {
            "tags": []
          },
          "execution_count": 712
        }
      ]
    },
    {
      "cell_type": "code",
      "metadata": {
        "id": "emHC5Aibrc6E",
        "colab_type": "code",
        "outputId": "c389ee27-73c0-43f1-f6d6-323fca26c1d6",
        "colab": {
          "base_uri": "https://localhost:8080/",
          "height": 121
        }
      },
      "source": [
        "df['class'].value_counts()"
      ],
      "execution_count": 713,
      "outputs": [
        {
          "output_type": "execute_result",
          "data": {
            "text/plain": [
              "0    160\n",
              "1     54\n",
              "3     35\n",
              "2     35\n",
              "4     13\n",
              "Name: class, dtype: int64"
            ]
          },
          "metadata": {
            "tags": []
          },
          "execution_count": 713
        }
      ]
    },
    {
      "cell_type": "code",
      "metadata": {
        "id": "X41szlfTS5w_",
        "colab_type": "code",
        "colab": {}
      },
      "source": [
        "df['class'] = df['class'].apply(lambda x : 1 if x >= 1 else 0)"
      ],
      "execution_count": 0,
      "outputs": []
    },
    {
      "cell_type": "code",
      "metadata": {
        "id": "AikHrdVMTFpQ",
        "colab_type": "code",
        "colab": {}
      },
      "source": [
        "df = df.apply(pd.to_numeric)"
      ],
      "execution_count": 0,
      "outputs": []
    },
    {
      "cell_type": "code",
      "metadata": {
        "id": "id7kriiSTl76",
        "colab_type": "code",
        "outputId": "09e625d8-e73b-419b-997b-daf9f35c3d8a",
        "colab": {
          "base_uri": "https://localhost:8080/",
          "height": 69
        }
      },
      "source": [
        "df['class'].value_counts()"
      ],
      "execution_count": 716,
      "outputs": [
        {
          "output_type": "execute_result",
          "data": {
            "text/plain": [
              "0    160\n",
              "1    137\n",
              "Name: class, dtype: int64"
            ]
          },
          "metadata": {
            "tags": []
          },
          "execution_count": 716
        }
      ]
    },
    {
      "cell_type": "code",
      "metadata": {
        "id": "kQSmJ87RsVS7",
        "colab_type": "code",
        "colab": {}
      },
      "source": [
        "Y = df['class']\n",
        "X_original = df.drop(['class','oldpeak'], axis = 1)\n"
      ],
      "execution_count": 0,
      "outputs": []
    },
    {
      "cell_type": "code",
      "metadata": {
        "id": "dpE_tqZ1rOzc",
        "colab_type": "code",
        "colab": {}
      },
      "source": [
        ""
      ],
      "execution_count": 0,
      "outputs": []
    },
    {
      "cell_type": "code",
      "metadata": {
        "id": "tw6SyPKPsJXO",
        "colab_type": "code",
        "colab": {}
      },
      "source": [
        "X= (X_original - np.min(X_original)) / (np.max(X_original) - np.min(X_original))"
      ],
      "execution_count": 0,
      "outputs": []
    },
    {
      "cell_type": "code",
      "metadata": {
        "id": "q6sfvYvNQb5v",
        "colab_type": "code",
        "colab": {}
      },
      "source": [
        "# create X and Y datasets for training\n",
        "from sklearn import model_selection\n",
        "\n",
        "X_train, X_test, y_train, y_test = model_selection.train_test_split(X, Y, test_size = 0.3)\n",
        "#reset index"
      ],
      "execution_count": 0,
      "outputs": []
    },
    {
      "cell_type": "code",
      "metadata": {
        "id": "XBvsJewQ1Us6",
        "colab_type": "code",
        "outputId": "be125775-ad24-40b0-c67e-b166f988ce08",
        "colab": {
          "base_uri": "https://localhost:8080/",
          "height": 34
        }
      },
      "source": [
        "type(X_train)"
      ],
      "execution_count": 720,
      "outputs": [
        {
          "output_type": "execute_result",
          "data": {
            "text/plain": [
              "pandas.core.frame.DataFrame"
            ]
          },
          "metadata": {
            "tags": []
          },
          "execution_count": 720
        }
      ]
    },
    {
      "cell_type": "code",
      "metadata": {
        "id": "VJqWnF8e77eF",
        "colab_type": "code",
        "colab": {}
      },
      "source": [
        "y_train.reset_index(inplace=True, drop=True)\n",
        "y_test.reset_index(inplace=True, drop=True)"
      ],
      "execution_count": 0,
      "outputs": []
    },
    {
      "cell_type": "code",
      "metadata": {
        "id": "2089bDRxS4gS",
        "colab_type": "code",
        "outputId": "893e6f2f-2e16-4a2b-88c1-34de2c7590d8",
        "colab": {
          "base_uri": "https://localhost:8080/",
          "height": 52
        }
      },
      "source": [
        "model = LogisticRegression(lr=0.001, num_iter=10000)  \n",
        "get_ipython().magic(u'time model.fit(X_train, y_train)')\n",
        "\n",
        "preds_test = model.predict(X_test)\n",
        "preds_train = model.predict(X_train)\n",
        "\n",
        "\n"
      ],
      "execution_count": 722,
      "outputs": [
        {
          "output_type": "stream",
          "text": [
            "CPU times: user 12.2 s, sys: 19.3 ms, total: 12.3 s\n",
            "Wall time: 12.3 s\n"
          ],
          "name": "stdout"
        }
      ]
    },
    {
      "cell_type": "code",
      "metadata": {
        "id": "E7FjG6NxWTMk",
        "colab_type": "code",
        "colab": {}
      },
      "source": [
        "q = pd.DataFrame(np.around(preds_test)) #prediciton\n",
        "#print(q)"
      ],
      "execution_count": 0,
      "outputs": []
    },
    {
      "cell_type": "code",
      "metadata": {
        "id": "TIp7mhiytEoh",
        "colab_type": "code",
        "colab": {}
      },
      "source": [
        "q['train']=pd.DataFrame(np.around(preds_train))\n",
        "q['test class']=y_test\n",
        "#print(q)"
      ],
      "execution_count": 0,
      "outputs": []
    },
    {
      "cell_type": "code",
      "metadata": {
        "id": "Zz3V9ptjy_aI",
        "colab_type": "code",
        "colab": {}
      },
      "source": [
        ""
      ],
      "execution_count": 0,
      "outputs": []
    },
    {
      "cell_type": "code",
      "metadata": {
        "id": "VLzdnXRXtL4N",
        "colab_type": "code",
        "outputId": "eac15ee4-d7e2-4998-86e8-a5c1d4764176",
        "colab": {
          "base_uri": "https://localhost:8080/",
          "height": 86
        }
      },
      "source": [
        "q['class train']=y_train\n",
        "#print(q)\n",
        "print('Test Accuracy:',q.loc[q[0]==q['test class']].shape[0] / q.shape[0] * 100)\n",
        "\n",
        "from sklearn import metrics\n",
        "print('Test Precision Score: ',metrics.precision_score(y_test, preds_test))\n",
        "print('Test Recall Score: ',metrics.recall_score(y_test, preds_test))\n",
        "print('Test f1 Score: ',metrics.f1_score(y_test, preds_test))"
      ],
      "execution_count": 725,
      "outputs": [
        {
          "output_type": "stream",
          "text": [
            "Test Accuracy: 86.66666666666667\n",
            "Test Precision Score:  0.9166666666666666\n",
            "Test Recall Score:  0.7857142857142857\n",
            "Test f1 Score:  0.8461538461538461\n"
          ],
          "name": "stdout"
        }
      ]
    },
    {
      "cell_type": "code",
      "metadata": {
        "id": "O2u6nef2EoXj",
        "colab_type": "code",
        "outputId": "c85a02d2-aade-446c-b14b-20a4ea15f84d",
        "colab": {
          "base_uri": "https://localhost:8080/",
          "height": 469
        }
      },
      "source": [
        "from sklearn.model_selection import cross_val_score\n",
        "from sklearn.metrics import make_scorer, confusion_matrix, classification_report\n",
        "import seaborn as sns\n",
        "print(classification_report(y_test, preds_test))\n",
        "\n",
        "\n",
        "lr_cm = confusion_matrix(y_test, preds_test)\n",
        "\n",
        "ax = sns.heatmap(lr_cm,annot=True,cmap='coolwarm',fmt='.0f')\n",
        "ax.set_title('Logistic Regression Confusion Matrix')\n",
        "ax.set_ylabel('True Label')\n",
        "ax.set_xlabel('Predicted Label')\n"
      ],
      "execution_count": 726,
      "outputs": [
        {
          "output_type": "stream",
          "text": [
            "              precision    recall  f1-score   support\n",
            "\n",
            "           0       0.83      0.94      0.88        48\n",
            "           1       0.92      0.79      0.85        42\n",
            "\n",
            "    accuracy                           0.87        90\n",
            "   macro avg       0.88      0.86      0.86        90\n",
            "weighted avg       0.87      0.87      0.87        90\n",
            "\n"
          ],
          "name": "stdout"
        },
        {
          "output_type": "execute_result",
          "data": {
            "text/plain": [
              "Text(0.5, 15.0, 'Predicted Label')"
            ]
          },
          "metadata": {
            "tags": []
          },
          "execution_count": 726
        },
        {
          "output_type": "display_data",
          "data": {
            "image/png": "[encoded data removed]",
            "text/plain": [
              "<Figure size 432x288 with 2 Axes>"
            ]
          },
          "metadata": {
            "tags": [],
            "needs_background": "light"
          }
        }
      ]
    },
    {
      "cell_type": "code",
      "metadata": {
        "id": "qFZceKS5y6x_",
        "colab_type": "code",
        "colab": {}
      },
      "source": [
        ""
      ],
      "execution_count": 0,
      "outputs": []
    },
    {
      "cell_type": "markdown",
      "metadata": {
        "id": "4U0CsDCn5O5o",
        "colab_type": "text"
      },
      "source": [
        "# SVM"
      ]
    },
    {
      "cell_type": "code",
      "metadata": {
        "id": "wrj6hSj05OHu",
        "colab_type": "code",
        "colab": {}
      },
      "source": [
        "import numpy as np\n",
        "import math\n",
        "\n",
        "'---------------------------------------------------------'\n",
        "\n",
        "\n",
        "# Functions\n",
        "\n",
        "def threshold(array):\n",
        "    for i in range(len(array)):\n",
        "        if array[i] > 0:\n",
        "            array[i] = 1\n",
        "    return array\n",
        "\n",
        "\n",
        "'---------------------------------------------------------'\n",
        "\n",
        "\n",
        "# class\n",
        "\n",
        "class SVM:\n",
        "    def __init__(self, learning_rate=0.001, lambda_param=0.01, iterations=1000):\n",
        "        self.lr = learning_rate\n",
        "        self.lambda_param = lambda_param\n",
        "        self.iterations = iterations\n",
        "        self.w = None\n",
        "        self.b = None\n",
        "\n",
        "    def fit(self, x_train, y_train):\n",
        "        y_ = np.where(y_train <= 0, -1, 1)\n",
        "        numberOfSamples, numberOfFeatures = x_train.shape\n",
        "        # print(x_train)\n",
        "\n",
        "        self.w = np.zeros(numberOfFeatures)\n",
        "        # print(self.w)\n",
        "        self.b = 0\n",
        "\n",
        "        for _ in range(self.iterations):\n",
        "            for index, x_i in enumerate(x_train):\n",
        "                # print('yindex--',y_[index])\n",
        "                # print('x_i--', x_i)\n",
        "                # print()\n",
        "                # print('dot--', np.dot(x_i,self.w))\n",
        "                condition = y_[index] * (np.dot(x_i, self.w)) - self.b\n",
        "                # print('condition--',condition)\n",
        "                # print('x_i.shape',x_i.shape)\n",
        "                # print('y_index.shape',y_[index].shape)\n",
        "                # print(y_[index])\n",
        "\n",
        "                if condition >= 1:\n",
        "                    self.w = self.w - self.lr * (2 * self.lambda_param * self.w)\n",
        "                else:\n",
        "                    self.w = self.w - self.lr * (2 * self.lambda_param * self.w - (x_i * y_[index]))\n",
        "                    self.b = self.b - self.lr * y_[index]\n",
        "\n",
        "    def predict(self, x_test):\n",
        "        linear_output = np.dot(self.w, x_test) - self.b\n",
        "        return np.sign(linear_output)\n",
        "\n",
        "\n",
        "\n"
      ],
      "execution_count": 0,
      "outputs": []
    },
    {
      "cell_type": "code",
      "metadata": {
        "id": "OFnaku5K5WYG",
        "colab_type": "code",
        "colab": {}
      },
      "source": [
        "data = np.genfromtxt(url, delimiter=',')\n",
        "\n",
        "t = 100  # <-------------------------------------no. of training samples\n",
        "f = [2,3,5,7,11,13] # <-----------------feature selection\n",
        "\n",
        "x_train = data[0:t, f]\n",
        "\n",
        "y1_train = data[0:t, 13:14]\n",
        "y_train = threshold(y1_train)\n",
        "#print(y1_train)\n",
        "\n",
        "x_test = data[t + 1:301, f]\n",
        "y1_test = data[t + 1:301, 13:14]\n",
        "y_test = threshold(y1_test)\n",
        "\n"
      ],
      "execution_count": 0,
      "outputs": []
    },
    {
      "cell_type": "code",
      "metadata": {
        "id": "wkDvdIOr5aDp",
        "colab_type": "code",
        "outputId": "a9287354-a19a-4121-d9a7-0693b1d26da6",
        "colab": {
          "base_uri": "https://localhost:8080/",
          "height": 52
        }
      },
      "source": [
        "svm = SVM()\n",
        "svm.fit(x_train, y_train)\n",
        "\n",
        "print('weight--', svm.w)\n",
        "\n",
        "w1 = np.reshape(svm.w, (len(f), 1))\n",
        "\n",
        "y_pre = []\n",
        "sum = 0\n",
        "count = 0\n",
        "for i in range(len(y1_test)):\n",
        "    sum = sum + (np.where((np.dot(x_test[i], w1)) <= 0, 0, 1))\n",
        "\n",
        "    if (np.where((np.dot(x_test[i], w1)) <= 0, 0, 1)) == y_test[i]:\n",
        "        count = count + 1\n",
        "\n",
        "    #print(\"actual: \", y_test[i], \"predicted: \", (np.where((np.dot(x_test[i], w1)) <= 0, 0, 1)))\n",
        "    y_pre.append(np.where((np.dot(x_test[i], w1)) <= 0, 0, 1))\n",
        "\n",
        "print('count', count)\n",
        "\n"
      ],
      "execution_count": 729,
      "outputs": [
        {
          "output_type": "stream",
          "text": [
            "weight-- [ 0.86152406  0.02704144 -0.01301449 -0.05197008  0.90939667  6.09215396]\n",
            "count 188\n"
          ],
          "name": "stdout"
        }
      ]
    },
    {
      "cell_type": "code",
      "metadata": {
        "id": "h0xK3Wvg5p1D",
        "colab_type": "code",
        "outputId": "ea833f9c-fc0b-4ed0-a09e-7363e77be792",
        "colab": {
          "base_uri": "https://localhost:8080/",
          "height": 34
        }
      },
      "source": [
        "print('SVM TEST Accuracy using selected features=', 100 * count / len(y1_test))"
      ],
      "execution_count": 730,
      "outputs": [
        {
          "output_type": "stream",
          "text": [
            "SVM TEST Accuracy using selected features= 94.0\n"
          ],
          "name": "stdout"
        }
      ]
    },
    {
      "cell_type": "code",
      "metadata": {
        "id": "qaOoAWgcFGb9",
        "colab_type": "code",
        "outputId": "b1db744b-6ec1-4fe8-bbab-ac878f446edb",
        "colab": {
          "base_uri": "https://localhost:8080/",
          "height": 469
        }
      },
      "source": [
        "from sklearn.model_selection import cross_val_score\n",
        "from sklearn.metrics import make_scorer, confusion_matrix, classification_report\n",
        "import seaborn as sns\n",
        "print(classification_report(y_test, y_pre))\n",
        "\n",
        "\n",
        "lr_cm = confusion_matrix(y_test, y_pre)\n",
        "\n",
        "ax = sns.heatmap(lr_cm,annot=True,cmap='coolwarm',fmt='.0f')\n",
        "ax.set_title('SVM Confusion Matrix')\n",
        "ax.set_ylabel('True Label')\n",
        "ax.set_xlabel('Predicted Label')\n"
      ],
      "execution_count": 731,
      "outputs": [
        {
          "output_type": "stream",
          "text": [
            "              precision    recall  f1-score   support\n",
            "\n",
            "         0.0       1.00      0.89      0.94       105\n",
            "         1.0       0.89      1.00      0.94        95\n",
            "\n",
            "    accuracy                           0.94       200\n",
            "   macro avg       0.94      0.94      0.94       200\n",
            "weighted avg       0.95      0.94      0.94       200\n",
            "\n"
          ],
          "name": "stdout"
        },
        {
          "output_type": "execute_result",
          "data": {
            "text/plain": [
              "Text(0.5, 15.0, 'Predicted Label')"
            ]
          },
          "metadata": {
            "tags": []
          },
          "execution_count": 731
        },
        {
          "output_type": "display_data",
          "data": {
            "image/png": "[encoded data removed]",
            "text/plain": [
              "<Figure size 432x288 with 2 Axes>"
            ]
          },
          "metadata": {
            "tags": [],
            "needs_background": "light"
          }
        }
      ]
    },
    {
      "cell_type": "code",
      "metadata": {
        "id": "R35MnLiyRtI-",
        "colab_type": "code",
        "colab": {}
      },
      "source": [
        ""
      ],
      "execution_count": 0,
      "outputs": []
    }
  ]
}